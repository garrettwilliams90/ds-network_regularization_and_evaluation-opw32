{
 "cells": [
  {
   "cell_type": "markdown",
   "metadata": {
    "slideshow": {
     "slide_type": "slide"
    }
   },
   "source": [
    "# Regularization and Evaluation of Neural Networks"
   ]
  },
  {
   "cell_type": "code",
   "execution_count": 1,
   "metadata": {},
   "outputs": [],
   "source": [
    "from sklearn.datasets import load_sample_images\n",
    "from sklearn.datasets import load_digits\n",
    "from sklearn.model_selection import train_test_split, cross_val_score\n",
    "from sklearn.preprocessing import OneHotEncoder\n",
    "from sklearn.metrics import accuracy_score, confusion_matrix\n",
    "import matplotlib.pyplot as plt\n",
    "import matplotlib.image as mpimg\n",
    "import numpy as np\n",
    "import seaborn as sns\n",
    "\n",
    "from tensorflow.keras.models import Sequential\n",
    "from tensorflow.keras.layers import Dense, Dropout\n",
    "from tensorflow.keras.regularizers import l2\n",
    "from tensorflow.keras.optimizers import SGD\n",
    "from tensorflow.keras.wrappers import scikit_learn\n",
    "from tensorflow.keras.callbacks import EarlyStopping\n",
    "\n",
    "import os\n",
    "import sys\n",
    "module_path = os.path.abspath(os.path.join(os.pardir, os.pardir))\n",
    "if module_path not in sys.path:\n",
    "    sys.path.append(module_path)\n",
    "    \n",
    "%load_ext autoreload\n",
    "%autoreload 2"
   ]
  },
  {
   "cell_type": "markdown",
   "metadata": {},
   "source": [
    "## Learning Objectives\n",
    "\n",
    "- use `keras` to code up a neural network model;\n",
    "- explain dropout and early stopping as distinctive forms of regularization in neural networks;\n",
    "- use wrappers inside `keras` to make models that can jibe with `sklearn`."
   ]
  },
  {
   "cell_type": "markdown",
   "metadata": {},
   "source": [
    "### From last time"
   ]
  },
  {
   "cell_type": "code",
   "execution_count": 2,
   "metadata": {},
   "outputs": [],
   "source": [
    "digits = load_digits()\n",
    "X = digits.data\n",
    "y = digits.target\n",
    "\n",
    "y_binary = y % 2"
   ]
  },
  {
   "cell_type": "markdown",
   "metadata": {},
   "source": [
    "# A LOT OF STUDENTS GOT AN ERROR HERE\n",
    "## Go to Google Colab\n",
    "## Or use the following code that Jennifer Cobb recommended\n",
    "X = digits.data.astype('float32') <br>\n",
    "y = digits.target.astype('float32')"
   ]
  },
  {
   "cell_type": "code",
   "execution_count": 3,
   "metadata": {},
   "outputs": [
    {
     "name": "stdout",
     "output_type": "stream",
     "text": [
      "Epoch 1/50\n",
      "180/180 [==============================] - 0s 995us/step - loss: 0.5734 - accuracy: 0.7284\n",
      "Epoch 2/50\n",
      "180/180 [==============================] - 0s 831us/step - loss: 0.2860 - accuracy: 0.8753\n",
      "Epoch 3/50\n",
      "180/180 [==============================] - 0s 746us/step - loss: 0.1917 - accuracy: 0.9193\n",
      "Epoch 4/50\n",
      "180/180 [==============================] - 0s 724us/step - loss: 0.1464 - accuracy: 0.9488\n",
      "Epoch 5/50\n",
      "180/180 [==============================] - 0s 742us/step - loss: 0.1204 - accuracy: 0.9560\n",
      "Epoch 6/50\n",
      "180/180 [==============================] - 0s 675us/step - loss: 0.0994 - accuracy: 0.9627\n",
      "Epoch 7/50\n",
      "180/180 [==============================] - 0s 860us/step - loss: 0.0892 - accuracy: 0.9638\n",
      "Epoch 8/50\n",
      "180/180 [==============================] - 0s 795us/step - loss: 0.0764 - accuracy: 0.9688\n",
      "Epoch 9/50\n",
      "180/180 [==============================] - 0s 756us/step - loss: 0.0684 - accuracy: 0.9705\n",
      "Epoch 10/50\n",
      "180/180 [==============================] - 0s 739us/step - loss: 0.0659 - accuracy: 0.9727\n",
      "Epoch 11/50\n",
      "180/180 [==============================] - 0s 912us/step - loss: 0.0575 - accuracy: 0.9722\n",
      "Epoch 12/50\n",
      "180/180 [==============================] - 0s 919us/step - loss: 0.0486 - accuracy: 0.9811\n",
      "Epoch 13/50\n",
      "180/180 [==============================] - 0s 808us/step - loss: 0.0482 - accuracy: 0.9816\n",
      "Epoch 14/50\n",
      "180/180 [==============================] - 0s 774us/step - loss: 0.0448 - accuracy: 0.9839\n",
      "Epoch 15/50\n",
      "180/180 [==============================] - 0s 791us/step - loss: 0.0439 - accuracy: 0.9827\n",
      "Epoch 16/50\n",
      "180/180 [==============================] - 0s 830us/step - loss: 0.0406 - accuracy: 0.9833\n",
      "Epoch 17/50\n",
      "180/180 [==============================] - 0s 846us/step - loss: 0.0352 - accuracy: 0.9872\n",
      "Epoch 18/50\n",
      "180/180 [==============================] - 0s 849us/step - loss: 0.0342 - accuracy: 0.9872\n",
      "Epoch 19/50\n",
      "180/180 [==============================] - 0s 731us/step - loss: 0.0320 - accuracy: 0.9878\n",
      "Epoch 20/50\n",
      "180/180 [==============================] - 0s 847us/step - loss: 0.0282 - accuracy: 0.9917\n",
      "Epoch 21/50\n",
      "180/180 [==============================] - 0s 787us/step - loss: 0.0292 - accuracy: 0.9883\n",
      "Epoch 22/50\n",
      "180/180 [==============================] - 0s 738us/step - loss: 0.0244 - accuracy: 0.9917\n",
      "Epoch 23/50\n",
      "180/180 [==============================] - 0s 727us/step - loss: 0.0262 - accuracy: 0.9928\n",
      "Epoch 24/50\n",
      "180/180 [==============================] - 0s 744us/step - loss: 0.0216 - accuracy: 0.9911\n",
      "Epoch 25/50\n",
      "180/180 [==============================] - 0s 820us/step - loss: 0.0233 - accuracy: 0.9933\n",
      "Epoch 26/50\n",
      "180/180 [==============================] - 0s 865us/step - loss: 0.0209 - accuracy: 0.9928\n",
      "Epoch 27/50\n",
      "180/180 [==============================] - 0s 808us/step - loss: 0.0201 - accuracy: 0.9950\n",
      "Epoch 28/50\n",
      "180/180 [==============================] - 0s 782us/step - loss: 0.0182 - accuracy: 0.9933\n",
      "Epoch 29/50\n",
      "180/180 [==============================] - 0s 774us/step - loss: 0.0183 - accuracy: 0.9944\n",
      "Epoch 30/50\n",
      "180/180 [==============================] - 0s 812us/step - loss: 0.0170 - accuracy: 0.9933\n",
      "Epoch 31/50\n",
      "180/180 [==============================] - 0s 1ms/step - loss: 0.0157 - accuracy: 0.9950\n",
      "Epoch 32/50\n",
      "180/180 [==============================] - 0s 953us/step - loss: 0.0156 - accuracy: 0.9950\n",
      "Epoch 33/50\n",
      "180/180 [==============================] - 0s 754us/step - loss: 0.0154 - accuracy: 0.9950\n",
      "Epoch 34/50\n",
      "180/180 [==============================] - 0s 710us/step - loss: 0.0133 - accuracy: 0.9955\n",
      "Epoch 35/50\n",
      "180/180 [==============================] - 0s 707us/step - loss: 0.0121 - accuracy: 0.9967\n",
      "Epoch 36/50\n",
      "180/180 [==============================] - 0s 704us/step - loss: 0.0136 - accuracy: 0.9961\n",
      "Epoch 37/50\n",
      "180/180 [==============================] - 0s 721us/step - loss: 0.0135 - accuracy: 0.9955\n",
      "Epoch 38/50\n",
      "180/180 [==============================] - 0s 750us/step - loss: 0.0122 - accuracy: 0.9961\n",
      "Epoch 39/50\n",
      "180/180 [==============================] - 0s 786us/step - loss: 0.0105 - accuracy: 0.9972\n",
      "Epoch 40/50\n",
      "180/180 [==============================] - 0s 663us/step - loss: 0.0096 - accuracy: 0.9967\n",
      "Epoch 41/50\n",
      "180/180 [==============================] - 0s 786us/step - loss: 0.0089 - accuracy: 0.9967\n",
      "Epoch 42/50\n",
      "180/180 [==============================] - 0s 661us/step - loss: 0.0083 - accuracy: 0.9972\n",
      "Epoch 43/50\n",
      "180/180 [==============================] - 0s 690us/step - loss: 0.0096 - accuracy: 0.9972\n",
      "Epoch 44/50\n",
      "180/180 [==============================] - 0s 772us/step - loss: 0.0077 - accuracy: 0.9978\n",
      "Epoch 45/50\n",
      "180/180 [==============================] - 0s 750us/step - loss: 0.0068 - accuracy: 0.9983\n",
      "Epoch 46/50\n",
      "180/180 [==============================] - 0s 759us/step - loss: 0.0060 - accuracy: 0.9983\n",
      "Epoch 47/50\n",
      "180/180 [==============================] - 0s 711us/step - loss: 0.0050 - accuracy: 0.9989\n",
      "Epoch 48/50\n",
      "180/180 [==============================] - 0s 700us/step - loss: 0.0064 - accuracy: 0.9978\n",
      "Epoch 49/50\n",
      "180/180 [==============================] - 0s 833us/step - loss: 0.0045 - accuracy: 0.9989\n",
      "Epoch 50/50\n",
      "180/180 [==============================] - 0s 773us/step - loss: 0.0047 - accuracy: 0.9978\n"
     ]
    },
    {
     "data": {
      "text/plain": [
       "<tensorflow.python.keras.callbacks.History at 0x7feb1621e070>"
      ]
     },
     "execution_count": 3,
     "metadata": {},
     "output_type": "execute_result"
    }
   ],
   "source": [
    "model = Sequential()\n",
    "model.add(Dense(12, activation='relu', input_dim=64))\n",
    "model.add(Dense(8, activation='relu'))\n",
    "model.add(Dense(1, activation='sigmoid'))\n",
    "\n",
    "model.compile(optimizer='rmsprop',\n",
    "              loss='binary_crossentropy',\n",
    "              metrics=['accuracy'])\n",
    "\n",
    "model.fit(X, y_binary, epochs=50, batch_size=10)"
   ]
  },
  {
   "cell_type": "markdown",
   "metadata": {},
   "source": [
    "*Divide the total number of observations by 10*"
   ]
  },
  {
   "cell_type": "markdown",
   "metadata": {},
   "source": [
    "### Things to know:\n",
    "\n",
    "- The data and labels in `fit()` need to be numpy arrays, not `pandas` dfs.\n",
    "- Scaling your data will have a large impact on your model.\n",
    "   > For our traditional input features, we would use a scaler object. For images, as long as the minimum value is 0, we can simply divide through by the maximum pixel intensity."
   ]
  },
  {
   "cell_type": "markdown",
   "metadata": {},
   "source": [
    "#### Getting data ready for modeling\n",
    "**Preprocessing**:\n",
    "\n",
    "- use train_test_split to create X_train, y_train, X_test, and y_test\n",
    "- Split training data into pure_train and validation sets.\n",
    "- Scale the pixel intensity to a value between 0 and 1."
   ]
  },
  {
   "cell_type": "markdown",
   "metadata": {},
   "source": [
    "Scaling our input variables will help speed up our neural network.\n",
    "\n",
    "Since our minimum intensity is 0, we can normalize the inputs by dividing each value by the max value (16)."
   ]
  },
  {
   "cell_type": "code",
   "execution_count": 4,
   "metadata": {},
   "outputs": [],
   "source": [
    "X_train, X_test, y_train, y_test =\\\n",
    "    train_test_split(X, y_binary, random_state=42, test_size=0.2)\n",
    "\n",
    "X_pure_train, X_val, y_pure_train, y_val =\\\n",
    "    train_test_split(X_train, y_train, random_state=42, test_size=0.2)\n",
    "\n",
    "X_pure_train, X_val, X_test = X_pure_train/16, X_val/16, X_test/16 #Scale/Normalize our data"
   ]
  },
  {
   "cell_type": "code",
   "execution_count": 6,
   "metadata": {},
   "outputs": [
    {
     "data": {
      "text/plain": [
       "(1149, 64)"
      ]
     },
     "execution_count": 6,
     "metadata": {},
     "output_type": "execute_result"
    }
   ],
   "source": [
    "X_pure_train.shape"
   ]
  },
  {
   "cell_type": "markdown",
   "metadata": {},
   "source": [
    "*We divde by 16 because we know it's a gray scale (0 = white, 16 = black) <br> So absolute black will become 1, and absolute white will become 0*"
   ]
  },
  {
   "cell_type": "markdown",
   "metadata": {},
   "source": [
    "For activation, let's start with the familiar sigmoid function, and see how it performs."
   ]
  },
  {
   "cell_type": "code",
   "execution_count": 5,
   "metadata": {},
   "outputs": [
    {
     "name": "stdout",
     "output_type": "stream",
     "text": [
      "Epoch 1/10\n",
      "12/12 [==============================] - 0s 1ms/step - loss: 0.7767 - accuracy: 0.4961\n",
      "Epoch 2/10\n",
      "12/12 [==============================] - 0s 877us/step - loss: 0.7625 - accuracy: 0.4961\n",
      "Epoch 3/10\n",
      "12/12 [==============================] - 0s 974us/step - loss: 0.7509 - accuracy: 0.4961\n",
      "Epoch 4/10\n",
      "12/12 [==============================] - 0s 998us/step - loss: 0.7414 - accuracy: 0.4961\n",
      "Epoch 5/10\n",
      "12/12 [==============================] - 0s 1ms/step - loss: 0.7334 - accuracy: 0.4961\n",
      "Epoch 6/10\n",
      "12/12 [==============================] - 0s 999us/step - loss: 0.7266 - accuracy: 0.4961\n",
      "Epoch 7/10\n",
      "12/12 [==============================] - 0s 1ms/step - loss: 0.7213 - accuracy: 0.4961\n",
      "Epoch 8/10\n",
      "12/12 [==============================] - 0s 1ms/step - loss: 0.7168 - accuracy: 0.4961\n",
      "Epoch 9/10\n",
      "12/12 [==============================] - 0s 1ms/step - loss: 0.7130 - accuracy: 0.4961\n",
      "Epoch 10/10\n",
      "12/12 [==============================] - 0s 959us/step - loss: 0.7100 - accuracy: 0.4961\n"
     ]
    }
   ],
   "source": [
    "model = Sequential()\n",
    "# We will start with our trusty sigmoid function.\n",
    "# What does input dimension correspond to?\n",
    "model.add(Dense(12, activation='sigmoid', input_dim=64))\n",
    "model.add(Dense(8, activation='sigmoid'))\n",
    "model.add(Dense(1, activation='sigmoid'))\n",
    "\n",
    "model.compile(optimizer='SGD' ,\n",
    "              # We use binary_crossentropy for a binary loss function\n",
    "              loss='binary_crossentropy',\n",
    "              metrics=['accuracy'])\n",
    "\n",
    "# Assign the variable history to store the results,\n",
    "# and set verbose=1 so we can see the output. To see\n",
    "# only the metrics at the end of each epoch, set verbose=2.\n",
    "results = model.fit(X_pure_train, y_pure_train, epochs=10, batch_size=100, verbose=1)"
   ]
  },
  {
   "cell_type": "markdown",
   "metadata": {},
   "source": [
    "*verbose means print out result in each iteration <br> notice how each iteration only takes 12 images <br> batch size means there are 100 batches with 12 observations in each batch size? MAYBE? Norm and Andrew go me confused<br> notice that our accuracy doesn't increase*"
   ]
  },
  {
   "cell_type": "markdown",
   "metadata": {},
   "source": [
    "We can access the history of our model via `results.history`.\n",
    "Use __dict__ to take a tour."
   ]
  },
  {
   "cell_type": "code",
   "execution_count": 7,
   "metadata": {},
   "outputs": [
    {
     "data": {
      "text/plain": [
       "{'validation_data': None,\n",
       " 'model': <tensorflow.python.keras.engine.sequential.Sequential at 0x7feb0ec9fbe0>,\n",
       " '_chief_worker_only': None,\n",
       " '_supports_tf_logs': False,\n",
       " 'history': {'loss': [0.7767447233200073,\n",
       "   0.7625477910041809,\n",
       "   0.7508957386016846,\n",
       "   0.7413603663444519,\n",
       "   0.7334471344947815,\n",
       "   0.7266380786895752,\n",
       "   0.7212827205657959,\n",
       "   0.7167859077453613,\n",
       "   0.712952733039856,\n",
       "   0.7099708318710327],\n",
       "  'accuracy': [0.4960835576057434,\n",
       "   0.4960835576057434,\n",
       "   0.4960835576057434,\n",
       "   0.4960835576057434,\n",
       "   0.4960835576057434,\n",
       "   0.4960835576057434,\n",
       "   0.4960835576057434,\n",
       "   0.4960835576057434,\n",
       "   0.4960835576057434,\n",
       "   0.4960835576057434]},\n",
       " 'params': {'verbose': 1, 'epochs': 10, 'steps': 12},\n",
       " 'epoch': [0, 1, 2, 3, 4, 5, 6, 7, 8, 9]}"
      ]
     },
     "execution_count": 7,
     "metadata": {},
     "output_type": "execute_result"
    }
   ],
   "source": [
    "results.__dict__"
   ]
  },
  {
   "cell_type": "code",
   "execution_count": 8,
   "metadata": {},
   "outputs": [
    {
     "data": {
      "image/png": "[encoded data removed]",
      "text/plain": [
       "<Figure size 720x360 with 2 Axes>"
      ]
     },
     "metadata": {
      "needs_background": "light"
     },
     "output_type": "display_data"
    }
   ],
   "source": [
    "sigmoid_loss = results.history['loss']\n",
    "sigmoid_accuracy = results.history['accuracy']\n",
    "\n",
    "fig, (ax1, ax2) = plt.subplots(1, 2, figsize=(10, 5))\n",
    "sns.lineplot(x=results.epoch, y=sigmoid_loss, ax=ax1, label='loss')\n",
    "sns.lineplot(x=results.epoch, y=sigmoid_accuracy, ax=ax2, label='accuracy');"
   ]
  },
  {
   "cell_type": "markdown",
   "metadata": {},
   "source": [
    "We have two plots above both relating to the quality of our model.  The left-hand plot is our loss. It uses the probabilities associated with our predictions to judge how well our prediction fits reality. We want it to decrease as far as possible.\n",
    "\n",
    "The accuracy judges how well the predictions are after applying the threshold at the output layer.  We want accuracy to increase."
   ]
  },
  {
   "cell_type": "markdown",
   "metadata": {},
   "source": [
    "If we look at our loss, it is still decreasing. That is a signal that our model is **still learning**. If our model is still learning, we can allow it to get better by turning a few dials.\n",
    "\n",
    "Let's:\n",
    "- increase the number of epochs;\n",
    "- change sigmoid activation in the hidden layers to ReLU; and\n",
    "- decrease the batch size."
   ]
  },
  {
   "cell_type": "code",
   "execution_count": 9,
   "metadata": {},
   "outputs": [
    {
     "data": {
      "text/plain": [
       "1149"
      ]
     },
     "execution_count": 9,
     "metadata": {},
     "output_type": "execute_result"
    }
   ],
   "source": [
    "X_pure_train.shape[0]"
   ]
  },
  {
   "cell_type": "code",
   "execution_count": 10,
   "metadata": {},
   "outputs": [
    {
     "name": "stdout",
     "output_type": "stream",
     "text": [
      "Epoch 1/100\n",
      "36/36 [==============================] - 0s 884us/step - loss: 0.7359 - accuracy: 0.4961\n",
      "Epoch 2/100\n",
      "36/36 [==============================] - 0s 832us/step - loss: 0.6912 - accuracy: 0.5013\n",
      "Epoch 3/100\n",
      "36/36 [==============================] - 0s 827us/step - loss: 0.6755 - accuracy: 0.5413\n",
      "Epoch 4/100\n",
      "36/36 [==============================] - 0s 873us/step - loss: 0.6657 - accuracy: 0.6066\n",
      "Epoch 5/100\n",
      "36/36 [==============================] - 0s 808us/step - loss: 0.6572 - accuracy: 0.6580\n",
      "Epoch 6/100\n",
      "36/36 [==============================] - 0s 868us/step - loss: 0.6485 - accuracy: 0.6849\n",
      "Epoch 7/100\n",
      "36/36 [==============================] - 0s 869us/step - loss: 0.6392 - accuracy: 0.7041\n",
      "Epoch 8/100\n",
      "36/36 [==============================] - 0s 894us/step - loss: 0.6288 - accuracy: 0.7241\n",
      "Epoch 9/100\n",
      "36/36 [==============================] - 0s 825us/step - loss: 0.6171 - accuracy: 0.7433\n",
      "Epoch 10/100\n",
      "36/36 [==============================] - 0s 946us/step - loss: 0.6041 - accuracy: 0.7659\n",
      "Epoch 11/100\n",
      "36/36 [==============================] - 0s 652us/step - loss: 0.5899 - accuracy: 0.7711\n",
      "Epoch 12/100\n",
      "36/36 [==============================] - 0s 824us/step - loss: 0.5748 - accuracy: 0.7868\n",
      "Epoch 13/100\n",
      "36/36 [==============================] - 0s 794us/step - loss: 0.5584 - accuracy: 0.8007\n",
      "Epoch 14/100\n",
      "36/36 [==============================] - 0s 767us/step - loss: 0.5411 - accuracy: 0.8068\n",
      "Epoch 15/100\n",
      "36/36 [==============================] - 0s 813us/step - loss: 0.5226 - accuracy: 0.8138\n",
      "Epoch 16/100\n",
      "36/36 [==============================] - 0s 761us/step - loss: 0.5032 - accuracy: 0.8172\n",
      "Epoch 17/100\n",
      "36/36 [==============================] - 0s 843us/step - loss: 0.4833 - accuracy: 0.8303\n",
      "Epoch 18/100\n",
      "36/36 [==============================] - 0s 1ms/step - loss: 0.4630 - accuracy: 0.8294\n",
      "Epoch 19/100\n",
      "36/36 [==============================] - 0s 1ms/step - loss: 0.4428 - accuracy: 0.8390\n",
      "Epoch 20/100\n",
      "36/36 [==============================] - 0s 2ms/step - loss: 0.4235 - accuracy: 0.8416\n",
      "Epoch 21/100\n",
      "36/36 [==============================] - 0s 1ms/step - loss: 0.4058 - accuracy: 0.8477\n",
      "Epoch 22/100\n",
      "36/36 [==============================] - 0s 1ms/step - loss: 0.3885 - accuracy: 0.8503\n",
      "Epoch 23/100\n",
      "36/36 [==============================] - 0s 1ms/step - loss: 0.3737 - accuracy: 0.8564\n",
      "Epoch 24/100\n",
      "36/36 [==============================] - 0s 1ms/step - loss: 0.3594 - accuracy: 0.8651\n",
      "Epoch 25/100\n",
      "36/36 [==============================] - 0s 1ms/step - loss: 0.3466 - accuracy: 0.8651\n",
      "Epoch 26/100\n",
      "36/36 [==============================] - 0s 1ms/step - loss: 0.3353 - accuracy: 0.8695\n",
      "Epoch 27/100\n",
      "36/36 [==============================] - 0s 1ms/step - loss: 0.3245 - accuracy: 0.8747\n",
      "Epoch 28/100\n",
      "36/36 [==============================] - 0s 988us/step - loss: 0.3144 - accuracy: 0.8790\n",
      "Epoch 29/100\n",
      "36/36 [==============================] - 0s 960us/step - loss: 0.3056 - accuracy: 0.8816\n",
      "Epoch 30/100\n",
      "36/36 [==============================] - 0s 1ms/step - loss: 0.2973 - accuracy: 0.8834\n",
      "Epoch 31/100\n",
      "36/36 [==============================] - 0s 1ms/step - loss: 0.2899 - accuracy: 0.8877\n",
      "Epoch 32/100\n",
      "36/36 [==============================] - 0s 1ms/step - loss: 0.2831 - accuracy: 0.8912\n",
      "Epoch 33/100\n",
      "36/36 [==============================] - 0s 1ms/step - loss: 0.2769 - accuracy: 0.8982\n",
      "Epoch 34/100\n",
      "36/36 [==============================] - 0s 1ms/step - loss: 0.2707 - accuracy: 0.8982\n",
      "Epoch 35/100\n",
      "36/36 [==============================] - 0s 1ms/step - loss: 0.2659 - accuracy: 0.9025\n",
      "Epoch 36/100\n",
      "36/36 [==============================] - 0s 2ms/step - loss: 0.2607 - accuracy: 0.9060\n",
      "Epoch 37/100\n",
      "36/36 [==============================] - 0s 3ms/step - loss: 0.2558 - accuracy: 0.9034\n",
      "Epoch 38/100\n",
      "36/36 [==============================] - 0s 2ms/step - loss: 0.2512 - accuracy: 0.9051\n",
      "Epoch 39/100\n",
      "36/36 [==============================] - 0s 1ms/step - loss: 0.2465 - accuracy: 0.9060\n",
      "Epoch 40/100\n",
      "36/36 [==============================] - 0s 1ms/step - loss: 0.2434 - accuracy: 0.9086\n",
      "Epoch 41/100\n",
      "36/36 [==============================] - 0s 2ms/step - loss: 0.2393 - accuracy: 0.9104\n",
      "Epoch 42/100\n",
      "36/36 [==============================] - 0s 1ms/step - loss: 0.2363 - accuracy: 0.9104\n",
      "Epoch 43/100\n",
      "36/36 [==============================] - 0s 2ms/step - loss: 0.2331 - accuracy: 0.9077\n",
      "Epoch 44/100\n",
      "36/36 [==============================] - 0s 2ms/step - loss: 0.2293 - accuracy: 0.9095\n",
      "Epoch 45/100\n",
      "36/36 [==============================] - 0s 1ms/step - loss: 0.2259 - accuracy: 0.9130\n",
      "Epoch 46/100\n",
      "36/36 [==============================] - 0s 1ms/step - loss: 0.2233 - accuracy: 0.9147\n",
      "Epoch 47/100\n",
      "36/36 [==============================] - 0s 1ms/step - loss: 0.2210 - accuracy: 0.9121\n",
      "Epoch 48/100\n",
      "36/36 [==============================] - 0s 1ms/step - loss: 0.2176 - accuracy: 0.9112\n",
      "Epoch 49/100\n",
      "36/36 [==============================] - 0s 1ms/step - loss: 0.2150 - accuracy: 0.9095\n",
      "Epoch 50/100\n",
      "36/36 [==============================] - 0s 1ms/step - loss: 0.2136 - accuracy: 0.9130\n",
      "Epoch 51/100\n",
      "36/36 [==============================] - 0s 1ms/step - loss: 0.2107 - accuracy: 0.9156\n",
      "Epoch 52/100\n",
      "36/36 [==============================] - 0s 963us/step - loss: 0.2088 - accuracy: 0.9164\n",
      "Epoch 53/100\n",
      "36/36 [==============================] - 0s 1ms/step - loss: 0.2060 - accuracy: 0.9156\n",
      "Epoch 54/100\n",
      "36/36 [==============================] - 0s 1ms/step - loss: 0.2041 - accuracy: 0.9164\n",
      "Epoch 55/100\n",
      "36/36 [==============================] - 0s 1ms/step - loss: 0.2023 - accuracy: 0.9147\n",
      "Epoch 56/100\n",
      "36/36 [==============================] - 0s 967us/step - loss: 0.2006 - accuracy: 0.9164\n",
      "Epoch 57/100\n",
      "36/36 [==============================] - 0s 1ms/step - loss: 0.1987 - accuracy: 0.9164\n",
      "Epoch 58/100\n",
      "36/36 [==============================] - 0s 948us/step - loss: 0.1954 - accuracy: 0.9199\n",
      "Epoch 59/100\n",
      "36/36 [==============================] - 0s 1ms/step - loss: 0.1927 - accuracy: 0.9217\n",
      "Epoch 60/100\n",
      "36/36 [==============================] - 0s 1ms/step - loss: 0.1928 - accuracy: 0.9208\n",
      "Epoch 61/100\n",
      "36/36 [==============================] - 0s 1ms/step - loss: 0.1900 - accuracy: 0.9191\n",
      "Epoch 62/100\n",
      "36/36 [==============================] - 0s 1ms/step - loss: 0.1883 - accuracy: 0.9182\n",
      "Epoch 63/100\n",
      "36/36 [==============================] - 0s 1ms/step - loss: 0.1868 - accuracy: 0.9217\n",
      "Epoch 64/100\n",
      "36/36 [==============================] - 0s 1ms/step - loss: 0.1853 - accuracy: 0.9208\n",
      "Epoch 65/100\n",
      "36/36 [==============================] - 0s 943us/step - loss: 0.1841 - accuracy: 0.9199\n",
      "Epoch 66/100\n",
      "36/36 [==============================] - 0s 1ms/step - loss: 0.1822 - accuracy: 0.9234\n",
      "Epoch 67/100\n",
      "36/36 [==============================] - 0s 943us/step - loss: 0.1801 - accuracy: 0.9191\n",
      "Epoch 68/100\n",
      "36/36 [==============================] - 0s 1ms/step - loss: 0.1780 - accuracy: 0.9260\n",
      "Epoch 69/100\n",
      "36/36 [==============================] - 0s 891us/step - loss: 0.1763 - accuracy: 0.9252\n",
      "Epoch 70/100\n",
      "36/36 [==============================] - 0s 695us/step - loss: 0.1735 - accuracy: 0.9260\n",
      "Epoch 71/100\n",
      "36/36 [==============================] - 0s 766us/step - loss: 0.1735 - accuracy: 0.9234\n",
      "Epoch 72/100\n",
      "36/36 [==============================] - 0s 765us/step - loss: 0.1715 - accuracy: 0.9286\n",
      "Epoch 73/100\n",
      "36/36 [==============================] - 0s 810us/step - loss: 0.1698 - accuracy: 0.9260\n",
      "Epoch 74/100\n",
      "36/36 [==============================] - 0s 897us/step - loss: 0.1687 - accuracy: 0.9252\n",
      "Epoch 75/100\n",
      "36/36 [==============================] - 0s 839us/step - loss: 0.1676 - accuracy: 0.9269\n",
      "Epoch 76/100\n",
      "36/36 [==============================] - 0s 807us/step - loss: 0.1658 - accuracy: 0.9295\n",
      "Epoch 77/100\n",
      "36/36 [==============================] - 0s 829us/step - loss: 0.1639 - accuracy: 0.9295\n",
      "Epoch 78/100\n",
      "36/36 [==============================] - 0s 824us/step - loss: 0.1625 - accuracy: 0.9295\n",
      "Epoch 79/100\n",
      "36/36 [==============================] - 0s 802us/step - loss: 0.1617 - accuracy: 0.9269\n",
      "Epoch 80/100\n",
      "36/36 [==============================] - 0s 719us/step - loss: 0.1598 - accuracy: 0.9286\n",
      "Epoch 81/100\n",
      "36/36 [==============================] - 0s 740us/step - loss: 0.1591 - accuracy: 0.9304\n",
      "Epoch 82/100\n"
     ]
    },
    {
     "name": "stdout",
     "output_type": "stream",
     "text": [
      "36/36 [==============================] - 0s 745us/step - loss: 0.1571 - accuracy: 0.9382\n",
      "Epoch 83/100\n",
      "36/36 [==============================] - 0s 725us/step - loss: 0.1562 - accuracy: 0.9304\n",
      "Epoch 84/100\n",
      "36/36 [==============================] - 0s 872us/step - loss: 0.1548 - accuracy: 0.9330\n",
      "Epoch 85/100\n",
      "36/36 [==============================] - 0s 765us/step - loss: 0.1538 - accuracy: 0.9321\n",
      "Epoch 86/100\n",
      "36/36 [==============================] - 0s 635us/step - loss: 0.1527 - accuracy: 0.9330\n",
      "Epoch 87/100\n",
      "36/36 [==============================] - 0s 801us/step - loss: 0.1521 - accuracy: 0.9356\n",
      "Epoch 88/100\n",
      "36/36 [==============================] - 0s 775us/step - loss: 0.1505 - accuracy: 0.9356\n",
      "Epoch 89/100\n",
      "36/36 [==============================] - 0s 854us/step - loss: 0.1493 - accuracy: 0.9347\n",
      "Epoch 90/100\n",
      "36/36 [==============================] - 0s 794us/step - loss: 0.1474 - accuracy: 0.9417\n",
      "Epoch 91/100\n",
      "36/36 [==============================] - 0s 967us/step - loss: 0.1467 - accuracy: 0.9347\n",
      "Epoch 92/100\n",
      "36/36 [==============================] - 0s 1ms/step - loss: 0.1456 - accuracy: 0.9365\n",
      "Epoch 93/100\n",
      "36/36 [==============================] - 0s 1ms/step - loss: 0.1450 - accuracy: 0.9391\n",
      "Epoch 94/100\n",
      "36/36 [==============================] - 0s 967us/step - loss: 0.1431 - accuracy: 0.9391\n",
      "Epoch 95/100\n",
      "36/36 [==============================] - 0s 802us/step - loss: 0.1413 - accuracy: 0.9417\n",
      "Epoch 96/100\n",
      "36/36 [==============================] - 0s 718us/step - loss: 0.1406 - accuracy: 0.9373\n",
      "Epoch 97/100\n",
      "36/36 [==============================] - 0s 799us/step - loss: 0.1399 - accuracy: 0.9417\n",
      "Epoch 98/100\n",
      "36/36 [==============================] - 0s 853us/step - loss: 0.1391 - accuracy: 0.9382\n",
      "Epoch 99/100\n",
      "36/36 [==============================] - 0s 1ms/step - loss: 0.1377 - accuracy: 0.9408\n",
      "Epoch 100/100\n",
      "36/36 [==============================] - 0s 1ms/step - loss: 0.1367 - accuracy: 0.9399\n"
     ]
    }
   ],
   "source": [
    "model = Sequential()\n",
    "model.add(Dense(12, activation='relu', input_dim=64)) #We changed activation from sigmoid to relu\n",
    "model.add(Dense(8, activation='relu')) #\n",
    "model.add(Dense(1, activation='sigmoid')) #Leave last as sigmoid because it's a classification problem\n",
    "\n",
    "model.compile(optimizer='SGD',\n",
    "              loss='binary_crossentropy',\n",
    "              metrics=['accuracy'])\n",
    "\n",
    "# Assign the variable history to store the results,\n",
    "# and set verbose=1 so we can see the output.\n",
    "results = model.fit(X_pure_train, y_pure_train, epochs=100, batch_size=None, verbose=1)"
   ]
  },
  {
   "cell_type": "markdown",
   "metadata": {},
   "source": [
    "*We changed activation from sigmoid to relu in the first 2 layers <br> Leave last as sigmoid because it's a classification problem <br> `batch_size = None` means the batchsize will default to 32*"
   ]
  },
  {
   "cell_type": "code",
   "execution_count": 11,
   "metadata": {},
   "outputs": [
    {
     "data": {
      "image/png": "[encoded data removed]",
      "text/plain": [
       "<Figure size 720x360 with 2 Axes>"
      ]
     },
     "metadata": {
      "needs_background": "light"
     },
     "output_type": "display_data"
    }
   ],
   "source": [
    "sigmoid_loss = results.history['loss']\n",
    "sigmoid_accuracy = results.history['accuracy']\n",
    "\n",
    "fig, (ax1, ax2) = plt.subplots(1, 2, figsize=(10, 5))\n",
    "sns.lineplot(x=results.epoch, y=sigmoid_loss, ax=ax1, label='loss')\n",
    "sns.lineplot(x=results.epoch, y=sigmoid_accuracy, ax=ax2, label='accuracy');"
   ]
  },
  {
   "cell_type": "markdown",
   "metadata": {},
   "source": [
    "If we increase the learning rate to a very high number, we see that our model overshoots the minimum, and starts bouncing all around."
   ]
  },
  {
   "cell_type": "code",
   "execution_count": 12,
   "metadata": {},
   "outputs": [
    {
     "name": "stdout",
     "output_type": "stream",
     "text": [
      "Epoch 1/30\n",
      "115/115 [==============================] - 0s 774us/step - loss: 1.1493 - accuracy: 0.5091\n",
      "Epoch 2/30\n",
      "115/115 [==============================] - 0s 832us/step - loss: 1.0034 - accuracy: 0.4830\n",
      "Epoch 3/30\n",
      "115/115 [==============================] - 0s 861us/step - loss: 0.9506 - accuracy: 0.5057\n",
      "Epoch 4/30\n",
      "115/115 [==============================] - 0s 906us/step - loss: 0.9326 - accuracy: 0.5100\n",
      "Epoch 5/30\n",
      "115/115 [==============================] - 0s 774us/step - loss: 0.9551 - accuracy: 0.4996\n",
      "Epoch 6/30\n",
      "115/115 [==============================] - 0s 648us/step - loss: 0.9689 - accuracy: 0.5117\n",
      "Epoch 7/30\n",
      "115/115 [==============================] - 0s 689us/step - loss: 0.9796 - accuracy: 0.4996\n",
      "Epoch 8/30\n",
      "115/115 [==============================] - 0s 748us/step - loss: 1.0677 - accuracy: 0.4822\n",
      "Epoch 9/30\n",
      "115/115 [==============================] - 0s 686us/step - loss: 1.0311 - accuracy: 0.4917\n",
      "Epoch 10/30\n",
      "115/115 [==============================] - 0s 659us/step - loss: 1.0578 - accuracy: 0.4848\n",
      "Epoch 11/30\n",
      "115/115 [==============================] - 0s 648us/step - loss: 1.0857 - accuracy: 0.4900\n",
      "Epoch 12/30\n",
      "115/115 [==============================] - 0s 729us/step - loss: 1.0106 - accuracy: 0.4961\n",
      "Epoch 13/30\n",
      "115/115 [==============================] - 0s 761us/step - loss: 1.0253 - accuracy: 0.5004\n",
      "Epoch 14/30\n",
      "115/115 [==============================] - 0s 694us/step - loss: 1.0252 - accuracy: 0.4987\n",
      "Epoch 15/30\n",
      "115/115 [==============================] - 0s 633us/step - loss: 0.9727 - accuracy: 0.4926\n",
      "Epoch 16/30\n",
      "115/115 [==============================] - 0s 667us/step - loss: 1.0187 - accuracy: 0.4917\n",
      "Epoch 17/30\n",
      "115/115 [==============================] - 0s 703us/step - loss: 1.0495 - accuracy: 0.4769\n",
      "Epoch 18/30\n",
      "115/115 [==============================] - 0s 784us/step - loss: 0.9407 - accuracy: 0.5083\n",
      "Epoch 19/30\n",
      "115/115 [==============================] - 0s 768us/step - loss: 0.8317 - accuracy: 0.5352\n",
      "Epoch 20/30\n",
      "115/115 [==============================] - 0s 800us/step - loss: 1.0928 - accuracy: 0.4761\n",
      "Epoch 21/30\n",
      "115/115 [==============================] - 0s 745us/step - loss: 0.9821 - accuracy: 0.5100\n",
      "Epoch 22/30\n",
      "115/115 [==============================] - 0s 851us/step - loss: 0.9903 - accuracy: 0.5074\n",
      "Epoch 23/30\n",
      "115/115 [==============================] - 0s 802us/step - loss: 1.0238 - accuracy: 0.4900\n",
      "Epoch 24/30\n",
      "115/115 [==============================] - 0s 778us/step - loss: 1.0331 - accuracy: 0.5048\n",
      "Epoch 25/30\n",
      "115/115 [==============================] - 0s 822us/step - loss: 1.0141 - accuracy: 0.4935\n",
      "Epoch 26/30\n",
      "115/115 [==============================] - 0s 774us/step - loss: 1.0248 - accuracy: 0.4865\n",
      "Epoch 27/30\n",
      "115/115 [==============================] - 0s 756us/step - loss: 1.0218 - accuracy: 0.4935\n",
      "Epoch 28/30\n",
      "115/115 [==============================] - 0s 731us/step - loss: 1.0061 - accuracy: 0.5065\n",
      "Epoch 29/30\n",
      "115/115 [==============================] - 0s 766us/step - loss: 1.0891 - accuracy: 0.4726\n",
      "Epoch 30/30\n",
      "115/115 [==============================] - 0s 743us/step - loss: 1.0845 - accuracy: 0.4795\n"
     ]
    },
    {
     "data": {
      "image/png": "[encoded data removed]",
      "text/plain": [
       "<Figure size 720x360 with 2 Axes>"
      ]
     },
     "metadata": {
      "needs_background": "light"
     },
     "output_type": "display_data"
    }
   ],
   "source": [
    "model = Sequential()\n",
    "\n",
    "sgd = SGD(lr=9) #Create a new SGD object to finer tune our model. \n",
    "#Since learning rate = 9, we will be taking steps that are too big to converge\n",
    "model.add(Dense(12, activation='relu', input_dim=64))\n",
    "model.add(Dense(8, activation='relu'))\n",
    "model.add(Dense(1, activation='sigmoid'))\n",
    "\n",
    "model.compile(optimizer=sgd,\n",
    "              loss='binary_crossentropy',\n",
    "              metrics=['accuracy'])\n",
    "\n",
    "results = model.fit(X_pure_train, y_pure_train,\n",
    "                    epochs=30, batch_size=10, verbose=1)\n",
    "\n",
    "relu_loss = results.history['loss']\n",
    "relu_accuracy = results.history['accuracy']\n",
    "\n",
    "fig, (ax1, ax2) = plt.subplots(1, 2, figsize=(10, 5))\n",
    "sns.lineplot(x=results.epoch, y=relu_loss, ax=ax1, label='loss')\n",
    "sns.lineplot(x=results.epoch, y=relu_accuracy, ax=ax2, label='accuracy');"
   ]
  },
  {
   "cell_type": "markdown",
   "metadata": {},
   "source": [
    "*If you want more fine control on the optimizer, you can create an optimizer object <br> Look at how we created an `SGD` object <br> We created a SGD with a learning rate of 9 to visualize how the loss function will jump from left to right because it cant converge since the learning rate is too big*"
   ]
  },
  {
   "cell_type": "markdown",
   "metadata": {},
   "source": [
    "### Exercise\n",
    "\n",
    "We have been looking only at our training set. Let's add in our validation set to the picture. Check the docstring for the `.fit()` method and add in our validation data."
   ]
  },
  {
   "cell_type": "code",
   "execution_count": 13,
   "metadata": {},
   "outputs": [
    {
     "name": "stdout",
     "output_type": "stream",
     "text": [
      "Epoch 1/30\n",
      "115/115 [==============================] - 0s 3ms/step - loss: 0.6654 - accuracy: 0.6066 - val_loss: 0.6169 - val_accuracy: 0.6250\n",
      "Epoch 2/30\n",
      "115/115 [==============================] - 0s 1ms/step - loss: 0.4750 - accuracy: 0.7972 - val_loss: 0.3593 - val_accuracy: 0.8611\n",
      "Epoch 3/30\n",
      "115/115 [==============================] - 0s 1ms/step - loss: 0.3010 - accuracy: 0.8825 - val_loss: 0.2760 - val_accuracy: 0.9028\n",
      "Epoch 4/30\n",
      "115/115 [==============================] - 0s 1ms/step - loss: 0.2421 - accuracy: 0.8973 - val_loss: 0.2289 - val_accuracy: 0.9028\n",
      "Epoch 5/30\n",
      "115/115 [==============================] - 0s 1ms/step - loss: 0.2002 - accuracy: 0.9208 - val_loss: 0.2084 - val_accuracy: 0.9236\n",
      "Epoch 6/30\n",
      "115/115 [==============================] - ETA: 0s - loss: 0.1833 - accuracy: 0.91 - 0s 1ms/step - loss: 0.1677 - accuracy: 0.9269 - val_loss: 0.2012 - val_accuracy: 0.9201\n",
      "Epoch 7/30\n",
      "115/115 [==============================] - 0s 1ms/step - loss: 0.1570 - accuracy: 0.9356 - val_loss: 0.1779 - val_accuracy: 0.9410\n",
      "Epoch 8/30\n",
      "115/115 [==============================] - 0s 1ms/step - loss: 0.1323 - accuracy: 0.9504 - val_loss: 0.1459 - val_accuracy: 0.9549\n",
      "Epoch 9/30\n",
      "115/115 [==============================] - 0s 1ms/step - loss: 0.1171 - accuracy: 0.9582 - val_loss: 0.1954 - val_accuracy: 0.9201\n",
      "Epoch 10/30\n",
      "115/115 [==============================] - 0s 1ms/step - loss: 0.1133 - accuracy: 0.9547 - val_loss: 0.1653 - val_accuracy: 0.9306\n",
      "Epoch 11/30\n",
      "115/115 [==============================] - 0s 1ms/step - loss: 0.1008 - accuracy: 0.9582 - val_loss: 0.1203 - val_accuracy: 0.9653\n",
      "Epoch 12/30\n",
      "115/115 [==============================] - 0s 1ms/step - loss: 0.0938 - accuracy: 0.9626 - val_loss: 0.1340 - val_accuracy: 0.9583\n",
      "Epoch 13/30\n",
      "115/115 [==============================] - 0s 1ms/step - loss: 0.0898 - accuracy: 0.9678 - val_loss: 0.1133 - val_accuracy: 0.9653\n",
      "Epoch 14/30\n",
      "115/115 [==============================] - 0s 3ms/step - loss: 0.0787 - accuracy: 0.9748 - val_loss: 0.1118 - val_accuracy: 0.9722\n",
      "Epoch 15/30\n",
      "115/115 [==============================] - 0s 1ms/step - loss: 0.0760 - accuracy: 0.9730 - val_loss: 0.1123 - val_accuracy: 0.9653\n",
      "Epoch 16/30\n",
      "115/115 [==============================] - 0s 1ms/step - loss: 0.0747 - accuracy: 0.9721 - val_loss: 0.1005 - val_accuracy: 0.9653\n",
      "Epoch 17/30\n",
      "115/115 [==============================] - 0s 1ms/step - loss: 0.0693 - accuracy: 0.9721 - val_loss: 0.0976 - val_accuracy: 0.9549\n",
      "Epoch 18/30\n",
      "115/115 [==============================] - 0s 1ms/step - loss: 0.0623 - accuracy: 0.9791 - val_loss: 0.1227 - val_accuracy: 0.9583\n",
      "Epoch 19/30\n",
      "115/115 [==============================] - 0s 1ms/step - loss: 0.0632 - accuracy: 0.9730 - val_loss: 0.0969 - val_accuracy: 0.9757\n",
      "Epoch 20/30\n",
      "115/115 [==============================] - 0s 1ms/step - loss: 0.0570 - accuracy: 0.9774 - val_loss: 0.0827 - val_accuracy: 0.9688\n",
      "Epoch 21/30\n",
      "115/115 [==============================] - 0s 1ms/step - loss: 0.0541 - accuracy: 0.9782 - val_loss: 0.0836 - val_accuracy: 0.9722\n",
      "Epoch 22/30\n",
      "115/115 [==============================] - 0s 1ms/step - loss: 0.0521 - accuracy: 0.9782 - val_loss: 0.0932 - val_accuracy: 0.9618\n",
      "Epoch 23/30\n",
      "115/115 [==============================] - 0s 982us/step - loss: 0.0442 - accuracy: 0.9835 - val_loss: 0.0849 - val_accuracy: 0.9688\n",
      "Epoch 24/30\n",
      "115/115 [==============================] - 0s 1ms/step - loss: 0.0474 - accuracy: 0.9774 - val_loss: 0.0820 - val_accuracy: 0.9722\n",
      "Epoch 25/30\n",
      "115/115 [==============================] - 0s 1ms/step - loss: 0.0439 - accuracy: 0.9861 - val_loss: 0.0844 - val_accuracy: 0.9757\n",
      "Epoch 26/30\n",
      "115/115 [==============================] - 0s 1ms/step - loss: 0.0415 - accuracy: 0.9843 - val_loss: 0.0842 - val_accuracy: 0.9688\n",
      "Epoch 27/30\n",
      "115/115 [==============================] - 0s 1ms/step - loss: 0.0407 - accuracy: 0.9843 - val_loss: 0.0812 - val_accuracy: 0.9722\n",
      "Epoch 28/30\n",
      "115/115 [==============================] - 0s 1ms/step - loss: 0.0423 - accuracy: 0.9861 - val_loss: 0.1407 - val_accuracy: 0.9618\n",
      "Epoch 29/30\n",
      "115/115 [==============================] - 0s 1ms/step - loss: 0.0470 - accuracy: 0.9809 - val_loss: 0.0755 - val_accuracy: 0.9722\n",
      "Epoch 30/30\n",
      "115/115 [==============================] - 0s 1ms/step - loss: 0.0321 - accuracy: 0.9887 - val_loss: 0.0808 - val_accuracy: 0.9722\n"
     ]
    },
    {
     "data": {
      "image/png": "[encoded data removed]",
      "text/plain": [
       "<Figure size 720x360 with 2 Axes>"
      ]
     },
     "metadata": {
      "needs_background": "light"
     },
     "output_type": "display_data"
    }
   ],
   "source": [
    "model = Sequential()\n",
    "model.add(Dense(12, activation='relu', input_dim=64))\n",
    "model.add(Dense(8, activation='relu'))\n",
    "model.add(Dense(4, activation='relu'))\n",
    "model.add(Dense(1, activation='sigmoid'))\n",
    "\n",
    "model.compile(optimizer='adam',\n",
    "              loss='binary_crossentropy',\n",
    "              metrics=['accuracy'])\n",
    "\n",
    "\n",
    "## YOUR CODE HERE\n",
    "results = model.fit(X_pure_train, y_pure_train, \n",
    "                    epochs = 30, batch_size = 10, \n",
    "                    verbose = 1, validation_data = (X_val, y_val))\n",
    "\n",
    "train_loss = results.history['loss']\n",
    "train_acc = results.history['accuracy']\n",
    "val_loss = results.history['val_loss']\n",
    "val_acc = results.history['val_accuracy']\n",
    "\n",
    "fig, (ax1, ax2) = plt.subplots(1, 2, figsize=(10, 5))\n",
    "sns.lineplot(x=results.epoch, y=train_loss, ax=ax1, label='train_loss')\n",
    "sns.lineplot(x=results.epoch, y=train_acc, ax=ax2, label='train_accuracy')\n",
    "\n",
    "sns.lineplot(x=results.epoch, y=val_loss, ax=ax1, label='val_loss')\n",
    "sns.lineplot(x=results.epoch, y=val_acc, ax=ax2, label='val_accuracy');"
   ]
  },
  {
   "cell_type": "code",
   "execution_count": 14,
   "metadata": {},
   "outputs": [
    {
     "data": {
      "text/plain": [
       "0.9722222089767456"
      ]
     },
     "execution_count": 14,
     "metadata": {},
     "output_type": "execute_result"
    }
   ],
   "source": [
    "results.history['val_accuracy'][-1]"
   ]
  },
  {
   "cell_type": "code",
   "execution_count": 15,
   "metadata": {},
   "outputs": [
    {
     "data": {
      "text/plain": [
       "{'validation_data': None,\n",
       " 'model': <tensorflow.python.keras.engine.sequential.Sequential at 0x7feaf869b430>,\n",
       " '_chief_worker_only': None,\n",
       " '_supports_tf_logs': False,\n",
       " 'history': {'loss': [0.6654362082481384,\n",
       "   0.47496432065963745,\n",
       "   0.30097872018814087,\n",
       "   0.24214859306812286,\n",
       "   0.20020148158073425,\n",
       "   0.16766422986984253,\n",
       "   0.15698565542697906,\n",
       "   0.1323239654302597,\n",
       "   0.11714520305395126,\n",
       "   0.11326237767934799,\n",
       "   0.10075050592422485,\n",
       "   0.09383023530244827,\n",
       "   0.08978233486413956,\n",
       "   0.0786529928445816,\n",
       "   0.07599508762359619,\n",
       "   0.0746782124042511,\n",
       "   0.06929238140583038,\n",
       "   0.06233372166752815,\n",
       "   0.06319282948970795,\n",
       "   0.056990738958120346,\n",
       "   0.05414075776934624,\n",
       "   0.05212699994444847,\n",
       "   0.044190023094415665,\n",
       "   0.04735289886593819,\n",
       "   0.0439467653632164,\n",
       "   0.04152272641658783,\n",
       "   0.040685709565877914,\n",
       "   0.042321886867284775,\n",
       "   0.046986158937215805,\n",
       "   0.0321025624871254],\n",
       "  'accuracy': [0.6066144704818726,\n",
       "   0.7972149848937988,\n",
       "   0.8825065493583679,\n",
       "   0.8973020315170288,\n",
       "   0.9208006858825684,\n",
       "   0.9268929362297058,\n",
       "   0.9355961680412292,\n",
       "   0.9503916501998901,\n",
       "   0.9582245349884033,\n",
       "   0.9547432661056519,\n",
       "   0.9582245349884033,\n",
       "   0.962576150894165,\n",
       "   0.967798113822937,\n",
       "   0.9747606515884399,\n",
       "   0.9730200171470642,\n",
       "   0.972149670124054,\n",
       "   0.972149670124054,\n",
       "   0.9791122674942017,\n",
       "   0.9730200171470642,\n",
       "   0.9773716330528259,\n",
       "   0.9782419204711914,\n",
       "   0.9782419204711914,\n",
       "   0.9834638833999634,\n",
       "   0.9773716330528259,\n",
       "   0.9860748648643494,\n",
       "   0.9843342304229736,\n",
       "   0.9843342304229736,\n",
       "   0.9860748648643494,\n",
       "   0.9808529019355774,\n",
       "   0.9886857867240906],\n",
       "  'val_loss': [0.6169064044952393,\n",
       "   0.35927581787109375,\n",
       "   0.2759604752063751,\n",
       "   0.2288578301668167,\n",
       "   0.20837759971618652,\n",
       "   0.2012241780757904,\n",
       "   0.17786961793899536,\n",
       "   0.14593034982681274,\n",
       "   0.19535385072231293,\n",
       "   0.16526328027248383,\n",
       "   0.12031093239784241,\n",
       "   0.13396045565605164,\n",
       "   0.11334982514381409,\n",
       "   0.11182504147291183,\n",
       "   0.11230126023292542,\n",
       "   0.10054825991392136,\n",
       "   0.09764520078897476,\n",
       "   0.12268093973398209,\n",
       "   0.0969090387225151,\n",
       "   0.08271848410367966,\n",
       "   0.08355820924043655,\n",
       "   0.09320607036352158,\n",
       "   0.084867924451828,\n",
       "   0.08203375339508057,\n",
       "   0.08438330888748169,\n",
       "   0.08421651273965836,\n",
       "   0.08117733150720596,\n",
       "   0.1407046914100647,\n",
       "   0.07554510980844498,\n",
       "   0.08077198266983032],\n",
       "  'val_accuracy': [0.625,\n",
       "   0.8611111044883728,\n",
       "   0.9027777910232544,\n",
       "   0.9027777910232544,\n",
       "   0.9236111044883728,\n",
       "   0.9201388955116272,\n",
       "   0.9409722089767456,\n",
       "   0.9548611044883728,\n",
       "   0.9201388955116272,\n",
       "   0.9305555820465088,\n",
       "   0.9652777910232544,\n",
       "   0.9583333134651184,\n",
       "   0.9652777910232544,\n",
       "   0.9722222089767456,\n",
       "   0.9652777910232544,\n",
       "   0.9652777910232544,\n",
       "   0.9548611044883728,\n",
       "   0.9583333134651184,\n",
       "   0.9756944179534912,\n",
       "   0.96875,\n",
       "   0.9722222089767456,\n",
       "   0.9618055820465088,\n",
       "   0.96875,\n",
       "   0.9722222089767456,\n",
       "   0.9756944179534912,\n",
       "   0.96875,\n",
       "   0.9722222089767456,\n",
       "   0.9618055820465088,\n",
       "   0.9722222089767456,\n",
       "   0.9722222089767456]},\n",
       " 'params': {'verbose': 1, 'epochs': 30, 'steps': 115},\n",
       " 'epoch': [0,\n",
       "  1,\n",
       "  2,\n",
       "  3,\n",
       "  4,\n",
       "  5,\n",
       "  6,\n",
       "  7,\n",
       "  8,\n",
       "  9,\n",
       "  10,\n",
       "  11,\n",
       "  12,\n",
       "  13,\n",
       "  14,\n",
       "  15,\n",
       "  16,\n",
       "  17,\n",
       "  18,\n",
       "  19,\n",
       "  20,\n",
       "  21,\n",
       "  22,\n",
       "  23,\n",
       "  24,\n",
       "  25,\n",
       "  26,\n",
       "  27,\n",
       "  28,\n",
       "  29]}"
      ]
     },
     "execution_count": 15,
     "metadata": {},
     "output_type": "execute_result"
    }
   ],
   "source": [
    "results.__dict__"
   ]
  },
  {
   "cell_type": "markdown",
   "metadata": {},
   "source": [
    "## Connecting with `sklearn`\n",
    "\n",
    "The `keras.wrappers` submodule means that we can turn `keras` models into estimators that `sklearn` tools will recognize."
   ]
  },
  {
   "cell_type": "code",
   "execution_count": 16,
   "metadata": {},
   "outputs": [
    {
     "ename": "TypeError",
     "evalue": "If no scoring is specified, the estimator passed should have a 'score' method. The estimator <tensorflow.python.keras.engine.sequential.Sequential object at 0x7feaf869b430> does not.",
     "output_type": "error",
     "traceback": [
      "\u001b[0;31m--------------------------------------------------------------------------\u001b[0m",
      "\u001b[0;31mTypeError\u001b[0m                                Traceback (most recent call last)",
      "\u001b[0;32m<ipython-input-16-440685741601>\u001b[0m in \u001b[0;36m<module>\u001b[0;34m\u001b[0m\n\u001b[1;32m      1\u001b[0m \u001b[0;31m# This will throw an error.\u001b[0m\u001b[0;34m\u001b[0m\u001b[0;34m\u001b[0m\u001b[0;34m\u001b[0m\u001b[0m\n\u001b[1;32m      2\u001b[0m \u001b[0;34m\u001b[0m\u001b[0m\n\u001b[0;32m----> 3\u001b[0;31m \u001b[0mcross_val_score\u001b[0m\u001b[0;34m(\u001b[0m\u001b[0mmodel\u001b[0m\u001b[0;34m,\u001b[0m \u001b[0mX_pure_train\u001b[0m\u001b[0;34m,\u001b[0m \u001b[0my_pure_train\u001b[0m\u001b[0;34m)\u001b[0m\u001b[0;34m\u001b[0m\u001b[0;34m\u001b[0m\u001b[0m\n\u001b[0m",
      "\u001b[0;32m~/opt/anaconda3/envs/learn-env/lib/python3.8/site-packages/sklearn/utils/validation.py\u001b[0m in \u001b[0;36minner_f\u001b[0;34m(*args, **kwargs)\u001b[0m\n\u001b[1;32m     70\u001b[0m                           FutureWarning)\n\u001b[1;32m     71\u001b[0m         \u001b[0mkwargs\u001b[0m\u001b[0;34m.\u001b[0m\u001b[0mupdate\u001b[0m\u001b[0;34m(\u001b[0m\u001b[0;34m{\u001b[0m\u001b[0mk\u001b[0m\u001b[0;34m:\u001b[0m \u001b[0marg\u001b[0m \u001b[0;32mfor\u001b[0m \u001b[0mk\u001b[0m\u001b[0;34m,\u001b[0m \u001b[0marg\u001b[0m \u001b[0;32min\u001b[0m \u001b[0mzip\u001b[0m\u001b[0;34m(\u001b[0m\u001b[0msig\u001b[0m\u001b[0;34m.\u001b[0m\u001b[0mparameters\u001b[0m\u001b[0;34m,\u001b[0m \u001b[0margs\u001b[0m\u001b[0;34m)\u001b[0m\u001b[0;34m}\u001b[0m\u001b[0;34m)\u001b[0m\u001b[0;34m\u001b[0m\u001b[0;34m\u001b[0m\u001b[0m\n\u001b[0;32m---> 72\u001b[0;31m         \u001b[0;32mreturn\u001b[0m \u001b[0mf\u001b[0m\u001b[0;34m(\u001b[0m\u001b[0;34m**\u001b[0m\u001b[0mkwargs\u001b[0m\u001b[0;34m)\u001b[0m\u001b[0;34m\u001b[0m\u001b[0;34m\u001b[0m\u001b[0m\n\u001b[0m\u001b[1;32m     73\u001b[0m     \u001b[0;32mreturn\u001b[0m \u001b[0minner_f\u001b[0m\u001b[0;34m\u001b[0m\u001b[0;34m\u001b[0m\u001b[0m\n\u001b[1;32m     74\u001b[0m \u001b[0;34m\u001b[0m\u001b[0m\n",
      "\u001b[0;32m~/opt/anaconda3/envs/learn-env/lib/python3.8/site-packages/sklearn/model_selection/_validation.py\u001b[0m in \u001b[0;36mcross_val_score\u001b[0;34m(estimator, X, y, groups, scoring, cv, n_jobs, verbose, fit_params, pre_dispatch, error_score)\u001b[0m\n\u001b[1;32m    397\u001b[0m     \"\"\"\n\u001b[1;32m    398\u001b[0m     \u001b[0;31m# To ensure multimetric format is not supported\u001b[0m\u001b[0;34m\u001b[0m\u001b[0;34m\u001b[0m\u001b[0;34m\u001b[0m\u001b[0m\n\u001b[0;32m--> 399\u001b[0;31m     \u001b[0mscorer\u001b[0m \u001b[0;34m=\u001b[0m \u001b[0mcheck_scoring\u001b[0m\u001b[0;34m(\u001b[0m\u001b[0mestimator\u001b[0m\u001b[0;34m,\u001b[0m \u001b[0mscoring\u001b[0m\u001b[0;34m=\u001b[0m\u001b[0mscoring\u001b[0m\u001b[0;34m)\u001b[0m\u001b[0;34m\u001b[0m\u001b[0;34m\u001b[0m\u001b[0m\n\u001b[0m\u001b[1;32m    400\u001b[0m \u001b[0;34m\u001b[0m\u001b[0m\n\u001b[1;32m    401\u001b[0m     cv_results = cross_validate(estimator=estimator, X=X, y=y, groups=groups,\n",
      "\u001b[0;32m~/opt/anaconda3/envs/learn-env/lib/python3.8/site-packages/sklearn/utils/validation.py\u001b[0m in \u001b[0;36minner_f\u001b[0;34m(*args, **kwargs)\u001b[0m\n\u001b[1;32m     70\u001b[0m                           FutureWarning)\n\u001b[1;32m     71\u001b[0m         \u001b[0mkwargs\u001b[0m\u001b[0;34m.\u001b[0m\u001b[0mupdate\u001b[0m\u001b[0;34m(\u001b[0m\u001b[0;34m{\u001b[0m\u001b[0mk\u001b[0m\u001b[0;34m:\u001b[0m \u001b[0marg\u001b[0m \u001b[0;32mfor\u001b[0m \u001b[0mk\u001b[0m\u001b[0;34m,\u001b[0m \u001b[0marg\u001b[0m \u001b[0;32min\u001b[0m \u001b[0mzip\u001b[0m\u001b[0;34m(\u001b[0m\u001b[0msig\u001b[0m\u001b[0;34m.\u001b[0m\u001b[0mparameters\u001b[0m\u001b[0;34m,\u001b[0m \u001b[0margs\u001b[0m\u001b[0;34m)\u001b[0m\u001b[0;34m}\u001b[0m\u001b[0;34m)\u001b[0m\u001b[0;34m\u001b[0m\u001b[0;34m\u001b[0m\u001b[0m\n\u001b[0;32m---> 72\u001b[0;31m         \u001b[0;32mreturn\u001b[0m \u001b[0mf\u001b[0m\u001b[0;34m(\u001b[0m\u001b[0;34m**\u001b[0m\u001b[0mkwargs\u001b[0m\u001b[0;34m)\u001b[0m\u001b[0;34m\u001b[0m\u001b[0;34m\u001b[0m\u001b[0m\n\u001b[0m\u001b[1;32m     73\u001b[0m     \u001b[0;32mreturn\u001b[0m \u001b[0minner_f\u001b[0m\u001b[0;34m\u001b[0m\u001b[0;34m\u001b[0m\u001b[0m\n\u001b[1;32m     74\u001b[0m \u001b[0;34m\u001b[0m\u001b[0m\n",
      "\u001b[0;32m~/opt/anaconda3/envs/learn-env/lib/python3.8/site-packages/sklearn/metrics/_scorer.py\u001b[0m in \u001b[0;36mcheck_scoring\u001b[0;34m(estimator, scoring, allow_none)\u001b[0m\n\u001b[1;32m    423\u001b[0m             \u001b[0;32mreturn\u001b[0m \u001b[0;32mNone\u001b[0m\u001b[0;34m\u001b[0m\u001b[0;34m\u001b[0m\u001b[0m\n\u001b[1;32m    424\u001b[0m         \u001b[0;32melse\u001b[0m\u001b[0;34m:\u001b[0m\u001b[0;34m\u001b[0m\u001b[0;34m\u001b[0m\u001b[0m\n\u001b[0;32m--> 425\u001b[0;31m             raise TypeError(\n\u001b[0m\u001b[1;32m    426\u001b[0m                 \u001b[0;34m\"If no scoring is specified, the estimator passed should \"\u001b[0m\u001b[0;34m\u001b[0m\u001b[0;34m\u001b[0m\u001b[0m\n\u001b[1;32m    427\u001b[0m                 \u001b[0;34m\"have a 'score' method. The estimator %r does not.\"\u001b[0m\u001b[0;34m\u001b[0m\u001b[0;34m\u001b[0m\u001b[0m\n",
      "\u001b[0;31mTypeError\u001b[0m: If no scoring is specified, the estimator passed should have a 'score' method. The estimator <tensorflow.python.keras.engine.sequential.Sequential object at 0x7feaf869b430> does not."
     ]
    }
   ],
   "source": [
    "# This will throw an error.\n",
    "\n",
    "cross_val_score(model, X_pure_train, y_pure_train)"
   ]
  },
  {
   "cell_type": "code",
   "execution_count": 17,
   "metadata": {},
   "outputs": [],
   "source": [
    "def build_model():\n",
    "    model = Sequential()\n",
    "    model.add(Dense(12, activation='relu', input_dim=64))\n",
    "    model.add(Dense(8, activation='relu'))\n",
    "    model.add(Dense(4, activation='relu'))\n",
    "    model.add(Dense(1, activation = 'sigmoid'))\n",
    "\n",
    "    model.compile(optimizer='adam',\n",
    "                  loss='binary_crossentropy',\n",
    "                  metrics=['accuracy'])\n",
    "    return model"
   ]
  },
  {
   "cell_type": "code",
   "execution_count": 18,
   "metadata": {},
   "outputs": [],
   "source": [
    "keras_model = scikit_learn.KerasClassifier(build_model,\n",
    "                                          epochs=50,\n",
    "                                          batch_size=32,\n",
    "                                          verbose=2)"
   ]
  },
  {
   "cell_type": "code",
   "execution_count": 19,
   "metadata": {},
   "outputs": [
    {
     "data": {
      "text/plain": [
       "tensorflow.python.keras.wrappers.scikit_learn.KerasClassifier"
      ]
     },
     "execution_count": 19,
     "metadata": {},
     "output_type": "execute_result"
    }
   ],
   "source": [
    "type(keras_model)"
   ]
  },
  {
   "cell_type": "code",
   "execution_count": 20,
   "metadata": {},
   "outputs": [
    {
     "name": "stdout",
     "output_type": "stream",
     "text": [
      "Epoch 1/50\n",
      "29/29 - 0s - loss: 0.6949 - accuracy: 0.5822\n",
      "Epoch 2/50\n",
      "29/29 - 0s - loss: 0.6476 - accuracy: 0.6387\n",
      "Epoch 3/50\n",
      "29/29 - 0s - loss: 0.6048 - accuracy: 0.7106\n",
      "Epoch 4/50\n",
      "29/29 - 0s - loss: 0.5562 - accuracy: 0.7584\n",
      "Epoch 5/50\n",
      "29/29 - 0s - loss: 0.5111 - accuracy: 0.8128\n",
      "Epoch 6/50\n",
      "29/29 - 0s - loss: 0.4779 - accuracy: 0.8520\n",
      "Epoch 7/50\n",
      "29/29 - 0s - loss: 0.4523 - accuracy: 0.8803\n",
      "Epoch 8/50\n",
      "29/29 - 0s - loss: 0.4333 - accuracy: 0.8912\n",
      "Epoch 9/50\n",
      "29/29 - 0s - loss: 0.4164 - accuracy: 0.9097\n",
      "Epoch 10/50\n",
      "29/29 - 0s - loss: 0.4015 - accuracy: 0.9075\n",
      "Epoch 11/50\n",
      "29/29 - 0s - loss: 0.3710 - accuracy: 0.9162\n",
      "Epoch 12/50\n",
      "29/29 - 0s - loss: 0.3257 - accuracy: 0.9249\n",
      "Epoch 13/50\n",
      "29/29 - 0s - loss: 0.2794 - accuracy: 0.9217\n",
      "Epoch 14/50\n",
      "29/29 - 0s - loss: 0.2387 - accuracy: 0.9271\n",
      "Epoch 15/50\n",
      "29/29 - 0s - loss: 0.2153 - accuracy: 0.9260\n",
      "Epoch 16/50\n",
      "29/29 - 0s - loss: 0.1999 - accuracy: 0.9336\n",
      "Epoch 17/50\n",
      "29/29 - 0s - loss: 0.1905 - accuracy: 0.9271\n",
      "Epoch 18/50\n",
      "29/29 - 0s - loss: 0.1797 - accuracy: 0.9336\n",
      "Epoch 19/50\n",
      "29/29 - 0s - loss: 0.1709 - accuracy: 0.9347\n",
      "Epoch 20/50\n",
      "29/29 - 0s - loss: 0.1659 - accuracy: 0.9358\n",
      "Epoch 21/50\n",
      "29/29 - 0s - loss: 0.1593 - accuracy: 0.9358\n",
      "Epoch 22/50\n",
      "29/29 - 0s - loss: 0.1531 - accuracy: 0.9380\n",
      "Epoch 23/50\n",
      "29/29 - 0s - loss: 0.1464 - accuracy: 0.9402\n",
      "Epoch 24/50\n",
      "29/29 - 0s - loss: 0.1428 - accuracy: 0.9412\n",
      "Epoch 25/50\n",
      "29/29 - 0s - loss: 0.1360 - accuracy: 0.9434\n",
      "Epoch 26/50\n",
      "29/29 - 0s - loss: 0.1313 - accuracy: 0.9456\n",
      "Epoch 27/50\n",
      "29/29 - 0s - loss: 0.1290 - accuracy: 0.9391\n",
      "Epoch 28/50\n",
      "29/29 - 0s - loss: 0.1268 - accuracy: 0.9521\n",
      "Epoch 29/50\n",
      "29/29 - 0s - loss: 0.1184 - accuracy: 0.9576\n",
      "Epoch 30/50\n",
      "29/29 - 0s - loss: 0.1142 - accuracy: 0.9576\n",
      "Epoch 31/50\n",
      "29/29 - 0s - loss: 0.1102 - accuracy: 0.9576\n",
      "Epoch 32/50\n",
      "29/29 - 0s - loss: 0.1085 - accuracy: 0.9587\n",
      "Epoch 33/50\n",
      "29/29 - 0s - loss: 0.1042 - accuracy: 0.9597\n",
      "Epoch 34/50\n",
      "29/29 - 0s - loss: 0.1053 - accuracy: 0.9587\n",
      "Epoch 35/50\n",
      "29/29 - 0s - loss: 0.1003 - accuracy: 0.9630\n",
      "Epoch 36/50\n",
      "29/29 - 0s - loss: 0.0972 - accuracy: 0.9652\n",
      "Epoch 37/50\n",
      "29/29 - 0s - loss: 0.0951 - accuracy: 0.9684\n",
      "Epoch 38/50\n",
      "29/29 - 0s - loss: 0.0933 - accuracy: 0.9674\n",
      "Epoch 39/50\n",
      "29/29 - 0s - loss: 0.0900 - accuracy: 0.9674\n",
      "Epoch 40/50\n",
      "29/29 - 0s - loss: 0.0873 - accuracy: 0.9717\n",
      "Epoch 41/50\n",
      "29/29 - 0s - loss: 0.0892 - accuracy: 0.9706\n",
      "Epoch 42/50\n",
      "29/29 - 0s - loss: 0.0828 - accuracy: 0.9750\n",
      "Epoch 43/50\n",
      "29/29 - 0s - loss: 0.0806 - accuracy: 0.9717\n",
      "Epoch 44/50\n",
      "29/29 - 0s - loss: 0.0788 - accuracy: 0.9739\n",
      "Epoch 45/50\n",
      "29/29 - 0s - loss: 0.0790 - accuracy: 0.9695\n",
      "Epoch 46/50\n",
      "29/29 - 0s - loss: 0.0755 - accuracy: 0.9717\n",
      "Epoch 47/50\n",
      "29/29 - 0s - loss: 0.0736 - accuracy: 0.9761\n",
      "Epoch 48/50\n",
      "29/29 - 0s - loss: 0.0724 - accuracy: 0.9761\n",
      "Epoch 49/50\n",
      "29/29 - 0s - loss: 0.0708 - accuracy: 0.9761\n",
      "Epoch 50/50\n",
      "29/29 - 0s - loss: 0.0710 - accuracy: 0.9739\n",
      "8/8 - 0s - loss: 0.1770 - accuracy: 0.9435\n",
      "Epoch 1/50\n",
      "29/29 - 0s - loss: 0.6883 - accuracy: 0.5288\n",
      "Epoch 2/50\n",
      "29/29 - 0s - loss: 0.6491 - accuracy: 0.6387\n",
      "Epoch 3/50\n",
      "29/29 - 0s - loss: 0.5895 - accuracy: 0.7443\n",
      "Epoch 4/50\n",
      "29/29 - 0s - loss: 0.5045 - accuracy: 0.8259\n",
      "Epoch 5/50\n",
      "29/29 - 0s - loss: 0.4180 - accuracy: 0.8792\n",
      "Epoch 6/50\n",
      "29/29 - 0s - loss: 0.3494 - accuracy: 0.8901\n",
      "Epoch 7/50\n",
      "29/29 - 0s - loss: 0.2983 - accuracy: 0.8934\n",
      "Epoch 8/50\n",
      "29/29 - 0s - loss: 0.2605 - accuracy: 0.8999\n",
      "Epoch 9/50\n",
      "29/29 - 0s - loss: 0.2352 - accuracy: 0.9053\n",
      "Epoch 10/50\n",
      "29/29 - 0s - loss: 0.2159 - accuracy: 0.9129\n",
      "Epoch 11/50\n",
      "29/29 - 0s - loss: 0.2036 - accuracy: 0.9108\n",
      "Epoch 12/50\n",
      "29/29 - 0s - loss: 0.1963 - accuracy: 0.9184\n",
      "Epoch 13/50\n",
      "29/29 - 0s - loss: 0.1809 - accuracy: 0.9227\n",
      "Epoch 14/50\n",
      "29/29 - 0s - loss: 0.1719 - accuracy: 0.9249\n",
      "Epoch 15/50\n",
      "29/29 - 0s - loss: 0.1680 - accuracy: 0.9227\n",
      "Epoch 16/50\n",
      "29/29 - 0s - loss: 0.1557 - accuracy: 0.9304\n",
      "Epoch 17/50\n",
      "29/29 - 0s - loss: 0.1504 - accuracy: 0.9358\n",
      "Epoch 18/50\n",
      "29/29 - 0s - loss: 0.1483 - accuracy: 0.9402\n",
      "Epoch 19/50\n",
      "29/29 - 0s - loss: 0.1368 - accuracy: 0.9412\n",
      "Epoch 20/50\n",
      "29/29 - 0s - loss: 0.1351 - accuracy: 0.9402\n",
      "Epoch 21/50\n",
      "29/29 - 0s - loss: 0.1240 - accuracy: 0.9510\n",
      "Epoch 22/50\n",
      "29/29 - 0s - loss: 0.1194 - accuracy: 0.9565\n",
      "Epoch 23/50\n",
      "29/29 - 0s - loss: 0.1141 - accuracy: 0.9543\n",
      "Epoch 24/50\n",
      "29/29 - 0s - loss: 0.1116 - accuracy: 0.9467\n",
      "Epoch 25/50\n",
      "29/29 - 0s - loss: 0.1094 - accuracy: 0.9554\n",
      "Epoch 26/50\n",
      "29/29 - 0s - loss: 0.0986 - accuracy: 0.9576\n",
      "Epoch 27/50\n",
      "29/29 - 0s - loss: 0.0964 - accuracy: 0.9619\n",
      "Epoch 28/50\n",
      "29/29 - 0s - loss: 0.0927 - accuracy: 0.9630\n",
      "Epoch 29/50\n",
      "29/29 - 0s - loss: 0.0917 - accuracy: 0.9641\n",
      "Epoch 30/50\n",
      "29/29 - 0s - loss: 0.0915 - accuracy: 0.9619\n",
      "Epoch 31/50\n",
      "29/29 - 0s - loss: 0.0823 - accuracy: 0.9663\n",
      "Epoch 32/50\n",
      "29/29 - 0s - loss: 0.0804 - accuracy: 0.9706\n",
      "Epoch 33/50\n",
      "29/29 - 0s - loss: 0.0779 - accuracy: 0.9706\n",
      "Epoch 34/50\n",
      "29/29 - 0s - loss: 0.0756 - accuracy: 0.9717\n",
      "Epoch 35/50\n",
      "29/29 - 0s - loss: 0.0735 - accuracy: 0.9717\n",
      "Epoch 36/50\n",
      "29/29 - 0s - loss: 0.0732 - accuracy: 0.9739\n",
      "Epoch 37/50\n",
      "29/29 - 0s - loss: 0.0688 - accuracy: 0.9739\n",
      "Epoch 38/50\n",
      "29/29 - 0s - loss: 0.0683 - accuracy: 0.9782\n",
      "Epoch 39/50\n",
      "29/29 - 0s - loss: 0.0681 - accuracy: 0.9739\n",
      "Epoch 40/50\n",
      "29/29 - 0s - loss: 0.0634 - accuracy: 0.9815\n",
      "Epoch 41/50\n",
      "29/29 - 0s - loss: 0.0622 - accuracy: 0.9771\n",
      "Epoch 42/50\n",
      "29/29 - 0s - loss: 0.0605 - accuracy: 0.9815\n",
      "Epoch 43/50\n",
      "29/29 - 0s - loss: 0.0579 - accuracy: 0.9826\n",
      "Epoch 44/50\n",
      "29/29 - 0s - loss: 0.0564 - accuracy: 0.9837\n",
      "Epoch 45/50\n",
      "29/29 - 0s - loss: 0.0561 - accuracy: 0.9793\n",
      "Epoch 46/50\n",
      "29/29 - 0s - loss: 0.0540 - accuracy: 0.9848\n",
      "Epoch 47/50\n",
      "29/29 - 0s - loss: 0.0527 - accuracy: 0.9837\n",
      "Epoch 48/50\n",
      "29/29 - 0s - loss: 0.0516 - accuracy: 0.9848\n",
      "Epoch 49/50\n",
      "29/29 - 0s - loss: 0.0535 - accuracy: 0.9793\n",
      "Epoch 50/50\n",
      "29/29 - 0s - loss: 0.0490 - accuracy: 0.9848\n",
      "8/8 - 0s - loss: 0.1345 - accuracy: 0.9478\n",
      "Epoch 1/50\n",
      "29/29 - 0s - loss: 0.6715 - accuracy: 0.6616\n",
      "Epoch 2/50\n",
      "29/29 - 0s - loss: 0.6142 - accuracy: 0.7813\n",
      "Epoch 3/50\n",
      "29/29 - 0s - loss: 0.5175 - accuracy: 0.8324\n",
      "Epoch 4/50\n",
      "29/29 - 0s - loss: 0.4210 - accuracy: 0.8640\n",
      "Epoch 5/50\n",
      "29/29 - 0s - loss: 0.3567 - accuracy: 0.8705\n",
      "Epoch 6/50\n",
      "29/29 - 0s - loss: 0.3132 - accuracy: 0.8825\n",
      "Epoch 7/50\n",
      "29/29 - 0s - loss: 0.2819 - accuracy: 0.8934\n",
      "Epoch 8/50\n",
      "29/29 - 0s - loss: 0.2590 - accuracy: 0.8934\n",
      "Epoch 9/50\n",
      "29/29 - 0s - loss: 0.2395 - accuracy: 0.9108\n",
      "Epoch 10/50\n",
      "29/29 - 0s - loss: 0.2279 - accuracy: 0.9042\n",
      "Epoch 11/50\n",
      "29/29 - 0s - loss: 0.2124 - accuracy: 0.9140\n",
      "Epoch 12/50\n",
      "29/29 - 0s - loss: 0.2014 - accuracy: 0.9140\n",
      "Epoch 13/50\n",
      "29/29 - 0s - loss: 0.1905 - accuracy: 0.9162\n",
      "Epoch 14/50\n",
      "29/29 - 0s - loss: 0.1823 - accuracy: 0.9195\n",
      "Epoch 15/50\n",
      "29/29 - 0s - loss: 0.1782 - accuracy: 0.9217\n",
      "Epoch 16/50\n",
      "29/29 - 0s - loss: 0.1678 - accuracy: 0.9325\n",
      "Epoch 17/50\n",
      "29/29 - 0s - loss: 0.1591 - accuracy: 0.9325\n",
      "Epoch 18/50\n",
      "29/29 - 0s - loss: 0.1530 - accuracy: 0.9325\n",
      "Epoch 19/50\n",
      "29/29 - 0s - loss: 0.1496 - accuracy: 0.9391\n",
      "Epoch 20/50\n",
      "29/29 - 0s - loss: 0.1408 - accuracy: 0.9423\n",
      "Epoch 21/50\n",
      "29/29 - 0s - loss: 0.1369 - accuracy: 0.9391\n",
      "Epoch 22/50\n",
      "29/29 - 0s - loss: 0.1339 - accuracy: 0.9402\n",
      "Epoch 23/50\n",
      "29/29 - 0s - loss: 0.1251 - accuracy: 0.9467\n",
      "Epoch 24/50\n",
      "29/29 - 0s - loss: 0.1238 - accuracy: 0.9456\n",
      "Epoch 25/50\n",
      "29/29 - 0s - loss: 0.1172 - accuracy: 0.9456\n",
      "Epoch 26/50\n",
      "29/29 - 0s - loss: 0.1110 - accuracy: 0.9499\n",
      "Epoch 27/50\n",
      "29/29 - 0s - loss: 0.1104 - accuracy: 0.9521\n",
      "Epoch 28/50\n",
      "29/29 - 0s - loss: 0.1039 - accuracy: 0.9554\n",
      "Epoch 29/50\n",
      "29/29 - 0s - loss: 0.0997 - accuracy: 0.9565\n",
      "Epoch 30/50\n",
      "29/29 - 0s - loss: 0.0962 - accuracy: 0.9554\n",
      "Epoch 31/50\n",
      "29/29 - 0s - loss: 0.0927 - accuracy: 0.9608\n",
      "Epoch 32/50\n",
      "29/29 - 0s - loss: 0.0899 - accuracy: 0.9608\n",
      "Epoch 33/50\n",
      "29/29 - 0s - loss: 0.0896 - accuracy: 0.9652\n",
      "Epoch 34/50\n",
      "29/29 - 0s - loss: 0.0846 - accuracy: 0.9674\n",
      "Epoch 35/50\n",
      "29/29 - 0s - loss: 0.0792 - accuracy: 0.9674\n",
      "Epoch 36/50\n",
      "29/29 - 0s - loss: 0.0769 - accuracy: 0.9684\n",
      "Epoch 37/50\n",
      "29/29 - 0s - loss: 0.0750 - accuracy: 0.9652\n",
      "Epoch 38/50\n",
      "29/29 - 0s - loss: 0.0714 - accuracy: 0.9652\n",
      "Epoch 39/50\n",
      "29/29 - 0s - loss: 0.0692 - accuracy: 0.9728\n",
      "Epoch 40/50\n",
      "29/29 - 0s - loss: 0.0678 - accuracy: 0.9706\n",
      "Epoch 41/50\n",
      "29/29 - 0s - loss: 0.0665 - accuracy: 0.9771\n",
      "Epoch 42/50\n",
      "29/29 - 0s - loss: 0.0614 - accuracy: 0.9782\n",
      "Epoch 43/50\n",
      "29/29 - 0s - loss: 0.0613 - accuracy: 0.9771\n"
     ]
    },
    {
     "name": "stdout",
     "output_type": "stream",
     "text": [
      "Epoch 44/50\n",
      "29/29 - 0s - loss: 0.0602 - accuracy: 0.9782\n",
      "Epoch 45/50\n",
      "29/29 - 0s - loss: 0.0586 - accuracy: 0.9771\n",
      "Epoch 46/50\n",
      "29/29 - 0s - loss: 0.0565 - accuracy: 0.9761\n",
      "Epoch 47/50\n",
      "29/29 - 0s - loss: 0.0534 - accuracy: 0.9804\n",
      "Epoch 48/50\n",
      "29/29 - 0s - loss: 0.0514 - accuracy: 0.9859\n",
      "Epoch 49/50\n",
      "29/29 - 0s - loss: 0.0500 - accuracy: 0.9804\n",
      "Epoch 50/50\n",
      "29/29 - 0s - loss: 0.0494 - accuracy: 0.9826\n",
      "8/8 - 0s - loss: 0.1231 - accuracy: 0.9478\n",
      "Epoch 1/50\n",
      "29/29 - 0s - loss: 0.6369 - accuracy: 0.6094\n",
      "Epoch 2/50\n",
      "29/29 - 0s - loss: 0.5718 - accuracy: 0.7334\n",
      "Epoch 3/50\n",
      "29/29 - 0s - loss: 0.5346 - accuracy: 0.7780\n",
      "Epoch 4/50\n",
      "29/29 - 0s - loss: 0.5098 - accuracy: 0.8063\n",
      "Epoch 5/50\n",
      "29/29 - 0s - loss: 0.4903 - accuracy: 0.8096\n",
      "Epoch 6/50\n",
      "29/29 - 0s - loss: 0.4766 - accuracy: 0.8433\n",
      "Epoch 7/50\n",
      "29/29 - 0s - loss: 0.4611 - accuracy: 0.8542\n",
      "Epoch 8/50\n",
      "29/29 - 0s - loss: 0.4470 - accuracy: 0.8553\n",
      "Epoch 9/50\n",
      "29/29 - 0s - loss: 0.4344 - accuracy: 0.8705\n",
      "Epoch 10/50\n",
      "29/29 - 0s - loss: 0.4243 - accuracy: 0.8705\n",
      "Epoch 11/50\n",
      "29/29 - 0s - loss: 0.4121 - accuracy: 0.8814\n",
      "Epoch 12/50\n",
      "29/29 - 0s - loss: 0.4014 - accuracy: 0.8934\n",
      "Epoch 13/50\n",
      "29/29 - 0s - loss: 0.3934 - accuracy: 0.8966\n",
      "Epoch 14/50\n",
      "29/29 - 0s - loss: 0.3823 - accuracy: 0.8966\n",
      "Epoch 15/50\n",
      "29/29 - 0s - loss: 0.3732 - accuracy: 0.9021\n",
      "Epoch 16/50\n",
      "29/29 - 0s - loss: 0.3658 - accuracy: 0.9064\n",
      "Epoch 17/50\n",
      "29/29 - 0s - loss: 0.3554 - accuracy: 0.9086\n",
      "Epoch 18/50\n",
      "29/29 - 0s - loss: 0.3480 - accuracy: 0.9086\n",
      "Epoch 19/50\n",
      "29/29 - 0s - loss: 0.3399 - accuracy: 0.9119\n",
      "Epoch 20/50\n",
      "29/29 - 0s - loss: 0.3356 - accuracy: 0.9151\n",
      "Epoch 21/50\n",
      "29/29 - 0s - loss: 0.3247 - accuracy: 0.9173\n",
      "Epoch 22/50\n",
      "29/29 - 0s - loss: 0.3175 - accuracy: 0.9260\n",
      "Epoch 23/50\n",
      "29/29 - 0s - loss: 0.3126 - accuracy: 0.9217\n",
      "Epoch 24/50\n",
      "29/29 - 0s - loss: 0.3020 - accuracy: 0.9293\n",
      "Epoch 25/50\n",
      "29/29 - 0s - loss: 0.2953 - accuracy: 0.9380\n",
      "Epoch 26/50\n",
      "29/29 - 0s - loss: 0.2897 - accuracy: 0.9347\n",
      "Epoch 27/50\n",
      "29/29 - 0s - loss: 0.2822 - accuracy: 0.9380\n",
      "Epoch 28/50\n",
      "29/29 - 0s - loss: 0.2747 - accuracy: 0.9423\n",
      "Epoch 29/50\n",
      "29/29 - 0s - loss: 0.2683 - accuracy: 0.9434\n",
      "Epoch 30/50\n",
      "29/29 - 0s - loss: 0.2610 - accuracy: 0.9499\n",
      "Epoch 31/50\n",
      "29/29 - 0s - loss: 0.2549 - accuracy: 0.9532\n",
      "Epoch 32/50\n",
      "29/29 - 0s - loss: 0.2494 - accuracy: 0.9489\n",
      "Epoch 33/50\n",
      "29/29 - 0s - loss: 0.2426 - accuracy: 0.9619\n",
      "Epoch 34/50\n",
      "29/29 - 0s - loss: 0.2352 - accuracy: 0.9597\n",
      "Epoch 35/50\n",
      "29/29 - 0s - loss: 0.2304 - accuracy: 0.9663\n",
      "Epoch 36/50\n",
      "29/29 - 0s - loss: 0.2261 - accuracy: 0.9652\n",
      "Epoch 37/50\n",
      "29/29 - 0s - loss: 0.2213 - accuracy: 0.9630\n",
      "Epoch 38/50\n",
      "29/29 - 0s - loss: 0.2160 - accuracy: 0.9728\n",
      "Epoch 39/50\n",
      "29/29 - 0s - loss: 0.2135 - accuracy: 0.9652\n",
      "Epoch 40/50\n",
      "29/29 - 0s - loss: 0.2059 - accuracy: 0.9717\n",
      "Epoch 41/50\n",
      "29/29 - 0s - loss: 0.2049 - accuracy: 0.9695\n",
      "Epoch 42/50\n",
      "29/29 - 0s - loss: 0.1989 - accuracy: 0.9695\n",
      "Epoch 43/50\n",
      "29/29 - 0s - loss: 0.1947 - accuracy: 0.9728\n",
      "Epoch 44/50\n",
      "29/29 - 0s - loss: 0.1878 - accuracy: 0.9750\n",
      "Epoch 45/50\n",
      "29/29 - 0s - loss: 0.1838 - accuracy: 0.9771\n",
      "Epoch 46/50\n",
      "29/29 - 0s - loss: 0.1802 - accuracy: 0.9771\n",
      "Epoch 47/50\n",
      "29/29 - 0s - loss: 0.1757 - accuracy: 0.9782\n",
      "Epoch 48/50\n",
      "29/29 - 0s - loss: 0.1738 - accuracy: 0.9739\n",
      "Epoch 49/50\n",
      "29/29 - 0s - loss: 0.1705 - accuracy: 0.9815\n",
      "Epoch 50/50\n",
      "29/29 - 0s - loss: 0.1658 - accuracy: 0.9804\n",
      "8/8 - 0s - loss: 0.2105 - accuracy: 0.9609\n",
      "Epoch 1/50\n",
      "29/29 - 0s - loss: 0.6644 - accuracy: 0.6076\n",
      "Epoch 2/50\n",
      "29/29 - 0s - loss: 0.5990 - accuracy: 0.7043\n",
      "Epoch 3/50\n",
      "29/29 - 0s - loss: 0.5250 - accuracy: 0.8022\n",
      "Epoch 4/50\n",
      "29/29 - 0s - loss: 0.4483 - accuracy: 0.8576\n",
      "Epoch 5/50\n",
      "29/29 - 0s - loss: 0.3808 - accuracy: 0.8902\n",
      "Epoch 6/50\n",
      "29/29 - 0s - loss: 0.3245 - accuracy: 0.9022\n",
      "Epoch 7/50\n",
      "29/29 - 0s - loss: 0.2789 - accuracy: 0.9065\n",
      "Epoch 8/50\n",
      "29/29 - 0s - loss: 0.2423 - accuracy: 0.9163\n",
      "Epoch 9/50\n",
      "29/29 - 0s - loss: 0.2188 - accuracy: 0.9207\n",
      "Epoch 10/50\n",
      "29/29 - 0s - loss: 0.1971 - accuracy: 0.9293\n",
      "Epoch 11/50\n",
      "29/29 - 0s - loss: 0.1810 - accuracy: 0.9326\n",
      "Epoch 12/50\n",
      "29/29 - 0s - loss: 0.1654 - accuracy: 0.9380\n",
      "Epoch 13/50\n",
      "29/29 - 0s - loss: 0.1601 - accuracy: 0.9402\n",
      "Epoch 14/50\n",
      "29/29 - 0s - loss: 0.1473 - accuracy: 0.9446\n",
      "Epoch 15/50\n",
      "29/29 - 0s - loss: 0.1416 - accuracy: 0.9457\n",
      "Epoch 16/50\n",
      "29/29 - 0s - loss: 0.1308 - accuracy: 0.9522\n",
      "Epoch 17/50\n",
      "29/29 - 0s - loss: 0.1257 - accuracy: 0.9543\n",
      "Epoch 18/50\n",
      "29/29 - 0s - loss: 0.1196 - accuracy: 0.9565\n",
      "Epoch 19/50\n",
      "29/29 - 0s - loss: 0.1115 - accuracy: 0.9663\n",
      "Epoch 20/50\n",
      "29/29 - 0s - loss: 0.1066 - accuracy: 0.9663\n",
      "Epoch 21/50\n",
      "29/29 - 0s - loss: 0.1019 - accuracy: 0.9652\n",
      "Epoch 22/50\n",
      "29/29 - 0s - loss: 0.1001 - accuracy: 0.9696\n",
      "Epoch 23/50\n",
      "29/29 - 0s - loss: 0.0920 - accuracy: 0.9717\n",
      "Epoch 24/50\n",
      "29/29 - 0s - loss: 0.0877 - accuracy: 0.9761\n",
      "Epoch 25/50\n",
      "29/29 - 0s - loss: 0.0852 - accuracy: 0.9772\n",
      "Epoch 26/50\n",
      "29/29 - 0s - loss: 0.0803 - accuracy: 0.9793\n",
      "Epoch 27/50\n",
      "29/29 - 0s - loss: 0.0815 - accuracy: 0.9728\n",
      "Epoch 28/50\n",
      "29/29 - 0s - loss: 0.0752 - accuracy: 0.9772\n",
      "Epoch 29/50\n",
      "29/29 - 0s - loss: 0.0698 - accuracy: 0.9804\n",
      "Epoch 30/50\n",
      "29/29 - 0s - loss: 0.0675 - accuracy: 0.9815\n",
      "Epoch 31/50\n",
      "29/29 - 0s - loss: 0.0635 - accuracy: 0.9837\n",
      "Epoch 32/50\n",
      "29/29 - 0s - loss: 0.0640 - accuracy: 0.9804\n",
      "Epoch 33/50\n",
      "29/29 - 0s - loss: 0.0598 - accuracy: 0.9837\n",
      "Epoch 34/50\n",
      "29/29 - 0s - loss: 0.0549 - accuracy: 0.9880\n",
      "Epoch 35/50\n",
      "29/29 - 0s - loss: 0.0563 - accuracy: 0.9815\n",
      "Epoch 36/50\n",
      "29/29 - 0s - loss: 0.0507 - accuracy: 0.9880\n",
      "Epoch 37/50\n",
      "29/29 - 0s - loss: 0.0493 - accuracy: 0.9870\n",
      "Epoch 38/50\n",
      "29/29 - 0s - loss: 0.0469 - accuracy: 0.9880\n",
      "Epoch 39/50\n",
      "29/29 - 0s - loss: 0.0440 - accuracy: 0.9913\n",
      "Epoch 40/50\n",
      "29/29 - 0s - loss: 0.0441 - accuracy: 0.9848\n",
      "Epoch 41/50\n",
      "29/29 - 0s - loss: 0.0416 - accuracy: 0.9902\n",
      "Epoch 42/50\n",
      "29/29 - 0s - loss: 0.0379 - accuracy: 0.9913\n",
      "Epoch 43/50\n",
      "29/29 - 0s - loss: 0.0363 - accuracy: 0.9935\n",
      "Epoch 44/50\n",
      "29/29 - 0s - loss: 0.0311 - accuracy: 0.9913\n",
      "Epoch 45/50\n",
      "29/29 - 0s - loss: 0.0324 - accuracy: 0.9913\n",
      "Epoch 46/50\n",
      "29/29 - 0s - loss: 0.0304 - accuracy: 0.9946\n",
      "Epoch 47/50\n",
      "29/29 - 0s - loss: 0.0283 - accuracy: 0.9946\n",
      "Epoch 48/50\n",
      "29/29 - 0s - loss: 0.0283 - accuracy: 0.9946\n",
      "Epoch 49/50\n",
      "29/29 - 0s - loss: 0.0248 - accuracy: 0.9957\n",
      "Epoch 50/50\n",
      "29/29 - 0s - loss: 0.0276 - accuracy: 0.9935\n",
      "8/8 - 0s - loss: 0.1027 - accuracy: 0.9476\n"
     ]
    },
    {
     "data": {
      "text/plain": [
       "array([0.94347829, 0.94782609, 0.94782609, 0.96086955, 0.94759828])"
      ]
     },
     "execution_count": 20,
     "metadata": {},
     "output_type": "execute_result"
    }
   ],
   "source": [
    "cross_val_score(keras_model, X_pure_train, y_pure_train)"
   ]
  },
  {
   "cell_type": "markdown",
   "metadata": {},
   "source": [
    "## Regularization"
   ]
  },
  {
   "cell_type": "markdown",
   "metadata": {},
   "source": [
    "Does regularization make sense in the context of neural networks? <br/>\n",
    "\n",
    "Yes! We still have all of the salient ingredients: a loss function, overfitting vs. underfitting, and coefficients (weights) that could get too large.\n",
    "\n",
    "But there are now a few different flavors besides L1 and L2 regularization. (Note that L1 regularization is not common in the context of  neural networks.)\n",
    "\n",
    "We'll add a few more layers to give regularization a better chance of making a difference!"
   ]
  },
  {
   "cell_type": "markdown",
   "metadata": {},
   "source": [
    "*The more complex your model, the more overfit it will be <br> So maybe it's not good to have 50 layers with 50 neurons each*"
   ]
  },
  {
   "cell_type": "code",
   "execution_count": 21,
   "metadata": {},
   "outputs": [
    {
     "data": {
      "image/png": "[encoded data removed]",
      "text/plain": [
       "<Figure size 720x360 with 2 Axes>"
      ]
     },
     "metadata": {
      "needs_background": "light"
     },
     "output_type": "display_data"
    }
   ],
   "source": [
    "model = Sequential()\n",
    "model.add(Dense(30, activation='relu', input_dim=64))\n",
    "\n",
    "# We can add L2 (or L1) regularization right into\n",
    "# the layer with the kernel_regularizer parameter.\n",
    "\n",
    "model.add(Dense(20, activation='relu',\n",
    "                kernel_regularizer=l2(l2=0.05)))\n",
    "\n",
    "# Note that there is also a bias_regularizer,\n",
    "# but this tends to have less effect.\n",
    "\n",
    "model.add(Dense(12, activation='relu'))\n",
    "model.add(Dense(12, activation='relu'))\n",
    "model.add(Dense(12, activation='relu'))\n",
    "model.add(Dense(8, activation='relu'))\n",
    "model.add(Dense(4, activation='relu'))\n",
    "model.add(Dense(1, activation ='sigmoid'))\n",
    "\n",
    "model.compile(optimizer='adam',\n",
    "              loss='binary_crossentropy',\n",
    "              metrics=['accuracy'])\n",
    "\n",
    "results = model.fit(X_pure_train, y_pure_train, epochs=20, batch_size=32,\n",
    "                    verbose=0, validation_data=(X_val, y_val))\n",
    "\n",
    "train_loss = results.history['loss']\n",
    "train_acc = results.history['accuracy']\n",
    "val_loss = results.history['val_loss']\n",
    "val_acc = results.history['val_accuracy']\n",
    "\n",
    "\n",
    "fig, (ax1, ax2) = plt.subplots(1, 2, figsize=(10, 5))\n",
    "sns.lineplot(x=results.epoch, y=train_loss, ax=ax1, label='train_loss')\n",
    "sns.lineplot(x=results.epoch, y=train_acc, ax=ax2, label='train_accuracy')\n",
    "\n",
    "sns.lineplot(x=results.epoch, y=val_loss, ax=ax1, label='val_loss')\n",
    "sns.lineplot(x=results.epoch, y=val_acc, ax=ax2, label='val_accuracy');"
   ]
  },
  {
   "cell_type": "markdown",
   "metadata": {},
   "source": [
    "*This is an apple to apple comparison with our previous model <br> EXCEPT this model has a regularization value (i.e. L2)*"
   ]
  },
  {
   "cell_type": "markdown",
   "metadata": {},
   "source": [
    "Adding L2 to multiple layers:"
   ]
  },
  {
   "cell_type": "code",
   "execution_count": 22,
   "metadata": {},
   "outputs": [
    {
     "data": {
      "image/png": "[encoded data removed]",
      "text/plain": [
       "<Figure size 720x360 with 2 Axes>"
      ]
     },
     "metadata": {
      "needs_background": "light"
     },
     "output_type": "display_data"
    }
   ],
   "source": [
    "model = Sequential()\n",
    "model.add(Dense(30, activation='relu',\n",
    "                input_dim=64))\n",
    "model.add(Dense(20, activation='relu',\n",
    "                kernel_regularizer=l2(l2=0.01)))\n",
    "\n",
    "model.add(Dense(12, activation='relu',\n",
    "                kernel_regularizer=l2(l2=0.01)))\n",
    "model.add(Dense(12, activation='relu',\n",
    "                kernel_regularizer=l2(l2=0.01)))\n",
    "model.add(Dense(12, activation='relu',\n",
    "                kernel_regularizer=l2(l2=0.01)))\n",
    "model.add(Dense(8, activation='relu',\n",
    "                kernel_regularizer=l2(l2=0.01)))\n",
    "model.add(Dense(4, activation='relu',\n",
    "                kernel_regularizer=l2(l2=0.01)))\n",
    "model.add(Dense(1, activation='sigmoid'))\n",
    "\n",
    "model.compile(optimizer='adam',\n",
    "              loss='binary_crossentropy',\n",
    "              metrics=['accuracy'])\n",
    "\n",
    "results = model.fit(X_pure_train, y_pure_train, epochs=20, batch_size=32,\n",
    "                    verbose=0, validation_data=(X_val, y_val))\n",
    "\n",
    "train_loss = results.history['loss']\n",
    "train_acc = results.history['accuracy']\n",
    "val_loss = results.history['val_loss']\n",
    "val_acc = results.history['val_accuracy']\n",
    "\n",
    "\n",
    "fig, (ax1, ax2) = plt.subplots(1, 2, figsize=(10, 5))\n",
    "sns.lineplot(x=results.epoch, y=train_loss, ax=ax1, label='train_loss')\n",
    "sns.lineplot(x=results.epoch, y=train_acc, ax=ax2, label='train_accuracy')\n",
    "\n",
    "sns.lineplot(x=results.epoch, y=val_loss, ax=ax1, label='val_loss')\n",
    "sns.lineplot(x=results.epoch, y=val_acc, ax=ax2, label='val_accuracy');"
   ]
  },
  {
   "cell_type": "markdown",
   "metadata": {},
   "source": [
    "*We could add a regularizaton term for the first layer but you shouldn't*"
   ]
  },
  {
   "cell_type": "markdown",
   "metadata": {},
   "source": [
    "### Dropout\n",
    "\n",
    "We can also specify a dropout layer in keras, which randomly shuts off different nodes during training. This can help to prevent overfitting.\n",
    "\n",
    "![drop_out](img/drop_out.png)"
   ]
  },
  {
   "cell_type": "markdown",
   "metadata": {},
   "source": [
    "### Exercise\n",
    "\n",
    "To add dropout to a `keras` network, simply add it as though it were a layer. It will apply to the immediately preceding layer.\n",
    "\n",
    "Add Dropout to one or more layers below."
   ]
  },
  {
   "cell_type": "code",
   "execution_count": 25,
   "metadata": {},
   "outputs": [
    {
     "data": {
      "image/png": "[encoded data removed]",
      "text/plain": [
       "<Figure size 720x360 with 2 Axes>"
      ]
     },
     "metadata": {
      "needs_background": "light"
     },
     "output_type": "display_data"
    }
   ],
   "source": [
    "model = Sequential()\n",
    "model.add(Dense(30, activation='relu', input_dim=64))\n",
    "model.add(Dense(20, activation='relu'))\n",
    "model.add(Dense(12, activation='relu'))\n",
    "model.add(Dense(12, activation='relu'))\n",
    "model.add(Dense(12, activation='relu'))\n",
    "model.add(Dense(8, activation='relu'))\n",
    "model.add(Dense(4, activation='relu'))\n",
    "model.add(Dense(1, activation ='sigmoid'))\n",
    "\n",
    "model.compile(optimizer='adam',\n",
    "              loss='binary_crossentropy',\n",
    "              metrics=['accuracy'])\n",
    "\n",
    "results = model.fit(X_pure_train, y_pure_train, epochs=50,\n",
    "                    batch_size= 32, verbose=0,\n",
    "                    validation_data=(X_val, y_val))\n",
    "\n",
    "train_loss = results.history['loss']\n",
    "train_acc = results.history['accuracy']\n",
    "val_loss = results.history['val_loss']\n",
    "val_acc = results.history['val_accuracy']\n",
    "\n",
    "\n",
    "fig, (ax1, ax2) = plt.subplots(1, 2, figsize=(10, 5))\n",
    "sns.lineplot(x=results.epoch, y=train_loss, ax=ax1, label='train_loss')\n",
    "sns.lineplot(x=results.epoch, y=train_acc, ax=ax2, label='train_accuracy')\n",
    "\n",
    "sns.lineplot(x=results.epoch, y=val_loss, ax=ax1, label='val_loss')\n",
    "sns.lineplot(x=results.epoch, y=val_acc, ax=ax2, label='val_accuracy');"
   ]
  },
  {
   "cell_type": "markdown",
   "metadata": {},
   "source": [
    "*Bad model because the loss doesn't converge to training set*"
   ]
  },
  {
   "cell_type": "code",
   "execution_count": 26,
   "metadata": {},
   "outputs": [
    {
     "data": {
      "text/plain": [
       "0.9826388955116272"
      ]
     },
     "execution_count": 26,
     "metadata": {},
     "output_type": "execute_result"
    }
   ],
   "source": [
    "results.history['val_accuracy'][-1]"
   ]
  },
  {
   "cell_type": "markdown",
   "metadata": {},
   "source": [
    "### *After dropout*"
   ]
  },
  {
   "cell_type": "code",
   "execution_count": 27,
   "metadata": {},
   "outputs": [
    {
     "data": {
      "image/png": "[encoded data removed]",
      "text/plain": [
       "<Figure size 720x360 with 2 Axes>"
      ]
     },
     "metadata": {
      "needs_background": "light"
     },
     "output_type": "display_data"
    }
   ],
   "source": [
    "model = Sequential()\n",
    "model.add(Dense(30, activation='relu', input_dim=64))\n",
    "model.add(Dense(20, activation='relu'))\n",
    "model.add(Dropout(.2, input_shape=(20,))) #This drop will control just the layer before\n",
    "model.add(Dense(12, activation='relu'))\n",
    "model.add(Dropout(.2, input_shape=(12,))) #This drop will control just the layer before\n",
    "model.add(Dense(12, activation='relu'))\n",
    "model.add(Dropout(.2, input_shape=(12,))) #This drop will control just the layer before\n",
    "model.add(Dense(12, activation='relu'))\n",
    "model.add(Dense(8, activation='relu'))\n",
    "model.add(Dense(4, activation='relu'))\n",
    "model.add(Dense(1, activation ='sigmoid'))\n",
    "\n",
    "model.compile(optimizer='adam',\n",
    "              loss='binary_crossentropy',\n",
    "              metrics=['accuracy'])\n",
    "\n",
    "results = model.fit(X_pure_train, y_pure_train, epochs=50,\n",
    "                    batch_size= 32, verbose=0,\n",
    "                    validation_data=(X_val, y_val))\n",
    "\n",
    "train_loss = results.history['loss']\n",
    "train_acc = results.history['accuracy']\n",
    "val_loss = results.history['val_loss']\n",
    "val_acc = results.history['val_accuracy']\n",
    "\n",
    "\n",
    "fig, (ax1, ax2) = plt.subplots(1, 2, figsize=(10, 5))\n",
    "sns.lineplot(x=results.epoch, y=train_loss, ax=ax1, label='train_loss')\n",
    "sns.lineplot(x=results.epoch, y=train_acc, ax=ax2, label='train_accuracy')\n",
    "\n",
    "sns.lineplot(x=results.epoch, y=val_loss, ax=ax1, label='val_loss')\n",
    "sns.lineplot(x=results.epoch, y=val_acc, ax=ax2, label='val_accuracy');"
   ]
  },
  {
   "cell_type": "markdown",
   "metadata": {},
   "source": [
    "### Early Stopping"
   ]
  },
  {
   "cell_type": "markdown",
   "metadata": {},
   "source": [
    "We can also tell our neural network to stop once it stops realizing any gain.\n",
    "\n",
    "Here we tell it to stop once the a very small positive change in the validation loss occurs:"
   ]
  },
  {
   "cell_type": "code",
   "execution_count": 28,
   "metadata": {},
   "outputs": [
    {
     "name": "stdout",
     "output_type": "stream",
     "text": [
      "Epoch 00011: early stopping\n"
     ]
    },
    {
     "data": {
      "image/png": "[encoded data removed]",
      "text/plain": [
       "<Figure size 720x360 with 2 Axes>"
      ]
     },
     "metadata": {
      "needs_background": "light"
     },
     "output_type": "display_data"
    }
   ],
   "source": [
    "model = Sequential()\n",
    "model.add(Dense(30, activation='relu', input_dim=64))\n",
    "model.add(Dense(20, activation='relu'))\n",
    "model.add(Dropout(0.5))\n",
    "model.add(Dense(12, activation='relu'))\n",
    "model.add(Dense(12, activation='relu'))\n",
    "model.add(Dense(12, activation='relu'))\n",
    "model.add(Dense(8, activation='relu'))\n",
    "model.add(Dense(4, activation='relu'))\n",
    "model.add(Dense(1, activation ='sigmoid'))\n",
    "\n",
    "model.compile(optimizer='adam',\n",
    "              loss='binary_crossentropy',\n",
    "              metrics=['accuracy'])\n",
    "\n",
    "# Define the EarlyStopping object\n",
    "early_stop = EarlyStopping(monitor='val_loss', min_delta=1e-8,\n",
    "                           verbose=1,\n",
    "                           mode='min')\n",
    "\n",
    "# Place this in a list as the value of the `callbacks` parameter\n",
    "# in the `.fit()` method.\n",
    "results = model.fit(X_pure_train, y_pure_train,\n",
    "                    epochs=20, batch_size=32,\n",
    "                    verbose=0, validation_data=(X_val, y_val),\n",
    "                    callbacks=[early_stop])\n",
    "\n",
    "train_loss = results.history['loss']\n",
    "train_acc = results.history['accuracy']\n",
    "val_loss = results.history['val_loss']\n",
    "val_acc = results.history['val_accuracy']\n",
    "\n",
    "\n",
    "fig, (ax1, ax2) = plt.subplots(1, 2, figsize=(10, 5))\n",
    "sns.lineplot(x=results.epoch, y=train_loss, ax=ax1, label='train_loss')\n",
    "sns.lineplot(x=results.epoch, y=train_acc, ax=ax2, label='train_accuracy')\n",
    "\n",
    "sns.lineplot(x=results.epoch, y=val_loss, ax=ax1, label='val_loss')\n",
    "sns.lineplot(x=results.epoch, y=val_acc, ax=ax2, label='val_accuracy');"
   ]
  },
  {
   "cell_type": "markdown",
   "metadata": {},
   "source": [
    "### Exercise\n",
    "\n",
    "That probably stopped too early. We can specify the number of epochs in which it doesn't see decrease in the loss with the `patience` parameter. Modify the code below to include an Early Stop with a patience of 5 epochs."
   ]
  },
  {
   "cell_type": "code",
   "execution_count": 29,
   "metadata": {},
   "outputs": [
    {
     "name": "stdout",
     "output_type": "stream",
     "text": [
      "Epoch 00004: early stopping\n"
     ]
    },
    {
     "data": {
      "image/png": "[encoded data removed]",
      "text/plain": [
       "<Figure size 720x360 with 2 Axes>"
      ]
     },
     "metadata": {
      "needs_background": "light"
     },
     "output_type": "display_data"
    }
   ],
   "source": [
    "model = Sequential()\n",
    "model.add(Dense(30, activation='relu', input_dim=64))\n",
    "model.add(Dense(20, activation='relu'))\n",
    "model.add(Dropout(0.5))\n",
    "model.add(Dense(12, activation='relu'))\n",
    "model.add(Dense(12, activation='relu'))\n",
    "model.add(Dense(12, activation='relu'))\n",
    "model.add(Dense(8, activation='relu'))\n",
    "model.add(Dense(4, activation='relu'))\n",
    "model.add(Dense(1, activation ='sigmoid'))\n",
    "\n",
    "model.compile(optimizer='adam',\n",
    "              loss='binary_crossentropy',\n",
    "              metrics=['accuracy'])\n",
    "\n",
    "# Define the EarlyStopping object\n",
    "\n",
    "\n",
    "\n",
    "# Place this in a list as the value of the `callbacks` parameter\n",
    "# in the `.fit()` method.\n",
    "results = model.fit(X_pure_train, y_pure_train,\n",
    "                    epochs=50, batch_size= 32,\n",
    "                    verbose=0, validation_data=(X_val, y_val),\n",
    "                    callbacks=[early_stop])\n",
    "\n",
    "train_loss = results.history['loss']\n",
    "train_acc = results.history['accuracy']\n",
    "val_loss = results.history['val_loss']\n",
    "val_acc = results.history['val_accuracy']\n",
    "\n",
    "\n",
    "fig, (ax1, ax2) = plt.subplots(1, 2, figsize=(10, 5))\n",
    "sns.lineplot(x=results.epoch, y=train_loss, ax=ax1, label='train_loss')\n",
    "sns.lineplot(x=results.epoch, y=train_acc, ax=ax2, label='train_accuracy')\n",
    "\n",
    "sns.lineplot(x=results.epoch, y=val_loss, ax=ax1, label='val_loss')\n",
    "sns.lineplot(x=results.epoch, y=val_acc, ax=ax2, label='val_accuracy');"
   ]
  },
  {
   "cell_type": "markdown",
   "metadata": {},
   "source": [
    "*It was only set to the 4th epoch instead of running through all 50 epochs*"
   ]
  },
  {
   "cell_type": "code",
   "execution_count": null,
   "metadata": {},
   "outputs": [],
   "source": [
    "results.history['val_accuracy'][-1]"
   ]
  },
  {
   "cell_type": "markdown",
   "metadata": {},
   "source": [
    "## Multiclass Classification and Softmax"
   ]
  },
  {
   "cell_type": "markdown",
   "metadata": {},
   "source": [
    "Now let's return to the problem of predicting digits 0 through 9."
   ]
  },
  {
   "cell_type": "code",
   "execution_count": null,
   "metadata": {},
   "outputs": [],
   "source": [
    "digits = load_digits()\n",
    "X = digits.data\n",
    "y = digits.target"
   ]
  },
  {
   "cell_type": "code",
   "execution_count": null,
   "metadata": {},
   "outputs": [],
   "source": [
    "X_train, X_test, y_train, y_test = train_test_split(X, y,\n",
    "                                                    random_state=42,\n",
    "                                                    test_size=0.2)\n",
    "X_pure_train, X_val, y_pure_train, y_val =\\\n",
    "    train_test_split(X_train, y_train,\n",
    "                     random_state=42, test_size=0.2)\n",
    "X_pure_train, X_val, X_test = X_pure_train/16, X_val/16, X_test/16"
   ]
  },
  {
   "cell_type": "markdown",
   "metadata": {},
   "source": [
    "For a multiclass output, our neural net expects our target to be in a certain form."
   ]
  },
  {
   "cell_type": "code",
   "execution_count": null,
   "metadata": {},
   "outputs": [],
   "source": [
    "ohe = OneHotEncoder(sparse=False)\n",
    "y_pure_train = ohe.fit_transform(y_pure_train.reshape(-1,1))\n",
    "y_val = ohe.transform(y_val.reshape(-1,1))\n",
    "y_test = ohe.transform(y_test.reshape(-1,1))"
   ]
  },
  {
   "cell_type": "code",
   "execution_count": null,
   "metadata": {},
   "outputs": [],
   "source": [
    "y_test"
   ]
  },
  {
   "cell_type": "code",
   "execution_count": null,
   "metadata": {},
   "outputs": [],
   "source": [
    "# Model from above, but now with ten output neurons:\n",
    "\n",
    "model = Sequential()\n",
    "model.add(Dense(12, activation='relu', input_dim=64))\n",
    "model.add(Dense(8, activation='relu'))\n",
    "model.add(Dense(10, activation='softmax'))\n",
    "\n",
    "model.compile(optimizer='adam',\n",
    "              loss='categorical_crossentropy',\n",
    "              metrics=['accuracy'])\n",
    "\n",
    "results = model.fit(X_pure_train, y_pure_train,\n",
    "                   epochs=50, batch_size=10,\n",
    "                   validation_data=(X_val, y_val))"
   ]
  },
  {
   "cell_type": "markdown",
   "metadata": {},
   "source": [
    "$$\\large \\text{Softmax}(x_{i}) = \\frac{\\exp(x_i)}{\\sum_j \\exp(x_j)}$$\n",
    "\n",
    "The sofmax function outputs a number between 0 and 1 for each of our classes.  All of the probabilities of the classes sum up to 1.\n",
    "\n",
    "The number of nodes in our output layer equals the number of categories in our dataset.\n",
    "\n",
    "We also need a new loss function: **categorical crossentropy**, which calculates a separate loss for each label and then sums the results."
   ]
  },
  {
   "cell_type": "code",
   "execution_count": null,
   "metadata": {},
   "outputs": [],
   "source": [
    "history = results.history\n",
    "training_loss = history['loss']\n",
    "val_loss = history['val_loss']\n",
    "training_accuracy = history['accuracy']\n",
    "val_accuracy = history['val_accuracy']"
   ]
  },
  {
   "cell_type": "code",
   "execution_count": null,
   "metadata": {},
   "outputs": [],
   "source": [
    "fig, (ax1,ax2) = plt.subplots(1,2,figsize=(15,5))\n",
    "\n",
    "\n",
    "sns.lineplot(x=list(range(len(training_loss))),\n",
    "             y=training_loss, color='r', label='training', ax=ax1)\n",
    "sns.lineplot(x=list(range(len(val_loss))),\n",
    "             y=val_loss, color='b', label='validation', ax=ax1)\n",
    "sns.lineplot(x=list(range(len(training_loss))),\n",
    "             y=training_accuracy, color='r', label='training',ax=ax2)\n",
    "sns.lineplot(x=list(range(len(val_loss))),\n",
    "             y=val_accuracy, color='b', label='validation',ax=ax2)\n",
    "ax1.legend();"
   ]
  },
  {
   "cell_type": "code",
   "execution_count": null,
   "metadata": {},
   "outputs": [],
   "source": [
    "y_hat_test = np.argmax(model.predict(X_test), axis=-1)"
   ]
  },
  {
   "cell_type": "code",
   "execution_count": null,
   "metadata": {},
   "outputs": [],
   "source": [
    "y_test_restore = ohe.inverse_transform(y_test)\n",
    "confusion_matrix(y_test_restore, y_hat_test)"
   ]
  },
  {
   "cell_type": "markdown",
   "metadata": {},
   "source": [
    "Wow, look at that performance!  \n",
    "\n",
    "That is great, but remember, we were dealing with simple black and white images.  With color, our basic neural net will have less success.\n",
    "\n",
    "We will explore more advanced tools in the coming days.\n"
   ]
  },
  {
   "cell_type": "code",
   "execution_count": null,
   "metadata": {
    "colab_type": "text",
    "id": "EdZDyJfARV8l"
   },
   "outputs": [],
   "source": []
  }
 ],
 "metadata": {
  "celltoolbar": "Raw Cell Format",
  "colab": {
   "collapsed_sections": [],
   "name": "intro-to-keras.ipynb",
   "provenance": []
  },
  "kernelspec": {
   "display_name": "Python 3",
   "language": "python",
   "name": "python3"
  },
  "language_info": {
   "codemirror_mode": {
    "name": "ipython",
    "version": 3
   },
   "file_extension": ".py",
   "mimetype": "text/x-python",
   "name": "python",
   "nbconvert_exporter": "python",
   "pygments_lexer": "ipython3",
   "version": "3.8.5"
  }
 },
 "nbformat": 4,
 "nbformat_minor": 4
}
